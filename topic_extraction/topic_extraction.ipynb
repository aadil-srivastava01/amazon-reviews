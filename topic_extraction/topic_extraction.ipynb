{
 "cells": [
  {
   "cell_type": "code",
   "execution_count": 1,
   "metadata": {},
   "outputs": [],
   "source": [
    "import numpy as np\n",
    "import pandas as pd\n",
    "import gensim\n",
    "import gensim.corpora as corpora\n",
    "from gensim.utils import simple_preprocess\n",
    "from gensim.models import CoherenceModel\n",
    "import spacy\n",
    "import pyLDAvis\n",
    "import pyLDAvis.gensim\n",
    "import matplotlib.pyplot as plt\n",
    "import warnings\n",
    "%matplotlib inline\n",
    "warnings.filterwarnings(\"ignore\")"
   ]
  },
  {
   "cell_type": "code",
   "execution_count": 2,
   "metadata": {},
   "outputs": [],
   "source": [
    "df = pd.read_json('reviews_Cell_Phones_and_Accessories_5.json', lines=True)"
   ]
  },
  {
   "cell_type": "code",
   "execution_count": 3,
   "metadata": {},
   "outputs": [
    {
     "data": {
      "text/html": [
       "<div>\n",
       "<style scoped>\n",
       "    .dataframe tbody tr th:only-of-type {\n",
       "        vertical-align: middle;\n",
       "    }\n",
       "\n",
       "    .dataframe tbody tr th {\n",
       "        vertical-align: top;\n",
       "    }\n",
       "\n",
       "    .dataframe thead th {\n",
       "        text-align: right;\n",
       "    }\n",
       "</style>\n",
       "<table border=\"1\" class=\"dataframe\">\n",
       "  <thead>\n",
       "    <tr style=\"text-align: right;\">\n",
       "      <th></th>\n",
       "      <th>asin</th>\n",
       "      <th>helpful</th>\n",
       "      <th>overall</th>\n",
       "      <th>reviewText</th>\n",
       "      <th>reviewTime</th>\n",
       "      <th>reviewerID</th>\n",
       "      <th>reviewerName</th>\n",
       "      <th>summary</th>\n",
       "      <th>unixReviewTime</th>\n",
       "    </tr>\n",
       "  </thead>\n",
       "  <tbody>\n",
       "    <tr>\n",
       "      <th>0</th>\n",
       "      <td>120401325X</td>\n",
       "      <td>[0, 0]</td>\n",
       "      <td>4</td>\n",
       "      <td>They look good and stick good! I just don't li...</td>\n",
       "      <td>05 21, 2014</td>\n",
       "      <td>A30TL5EWN6DFXT</td>\n",
       "      <td>christina</td>\n",
       "      <td>Looks Good</td>\n",
       "      <td>1400630400</td>\n",
       "    </tr>\n",
       "    <tr>\n",
       "      <th>1</th>\n",
       "      <td>120401325X</td>\n",
       "      <td>[0, 0]</td>\n",
       "      <td>5</td>\n",
       "      <td>These stickers work like the review says they ...</td>\n",
       "      <td>01 14, 2014</td>\n",
       "      <td>ASY55RVNIL0UD</td>\n",
       "      <td>emily l.</td>\n",
       "      <td>Really great product.</td>\n",
       "      <td>1389657600</td>\n",
       "    </tr>\n",
       "    <tr>\n",
       "      <th>2</th>\n",
       "      <td>120401325X</td>\n",
       "      <td>[0, 0]</td>\n",
       "      <td>5</td>\n",
       "      <td>These are awesome and make my phone look so st...</td>\n",
       "      <td>06 26, 2014</td>\n",
       "      <td>A2TMXE2AFO7ONB</td>\n",
       "      <td>Erica</td>\n",
       "      <td>LOVE LOVE LOVE</td>\n",
       "      <td>1403740800</td>\n",
       "    </tr>\n",
       "    <tr>\n",
       "      <th>3</th>\n",
       "      <td>120401325X</td>\n",
       "      <td>[4, 4]</td>\n",
       "      <td>4</td>\n",
       "      <td>Item arrived in great time and was in perfect ...</td>\n",
       "      <td>10 21, 2013</td>\n",
       "      <td>AWJ0WZQYMYFQ4</td>\n",
       "      <td>JM</td>\n",
       "      <td>Cute!</td>\n",
       "      <td>1382313600</td>\n",
       "    </tr>\n",
       "    <tr>\n",
       "      <th>4</th>\n",
       "      <td>120401325X</td>\n",
       "      <td>[2, 3]</td>\n",
       "      <td>5</td>\n",
       "      <td>awesome! stays on, and looks great. can be use...</td>\n",
       "      <td>02 3, 2013</td>\n",
       "      <td>ATX7CZYFXI1KW</td>\n",
       "      <td>patrice m rogoza</td>\n",
       "      <td>leopard home button sticker for iphone 4s</td>\n",
       "      <td>1359849600</td>\n",
       "    </tr>\n",
       "  </tbody>\n",
       "</table>\n",
       "</div>"
      ],
      "text/plain": [
       "         asin helpful  overall  \\\n",
       "0  120401325X  [0, 0]        4   \n",
       "1  120401325X  [0, 0]        5   \n",
       "2  120401325X  [0, 0]        5   \n",
       "3  120401325X  [4, 4]        4   \n",
       "4  120401325X  [2, 3]        5   \n",
       "\n",
       "                                          reviewText   reviewTime  \\\n",
       "0  They look good and stick good! I just don't li...  05 21, 2014   \n",
       "1  These stickers work like the review says they ...  01 14, 2014   \n",
       "2  These are awesome and make my phone look so st...  06 26, 2014   \n",
       "3  Item arrived in great time and was in perfect ...  10 21, 2013   \n",
       "4  awesome! stays on, and looks great. can be use...   02 3, 2013   \n",
       "\n",
       "       reviewerID      reviewerName  \\\n",
       "0  A30TL5EWN6DFXT         christina   \n",
       "1   ASY55RVNIL0UD          emily l.   \n",
       "2  A2TMXE2AFO7ONB             Erica   \n",
       "3   AWJ0WZQYMYFQ4                JM   \n",
       "4   ATX7CZYFXI1KW  patrice m rogoza   \n",
       "\n",
       "                                     summary  unixReviewTime  \n",
       "0                                 Looks Good      1400630400  \n",
       "1                      Really great product.      1389657600  \n",
       "2                             LOVE LOVE LOVE      1403740800  \n",
       "3                                      Cute!      1382313600  \n",
       "4  leopard home button sticker for iphone 4s      1359849600  "
      ]
     },
     "execution_count": 3,
     "metadata": {},
     "output_type": "execute_result"
    }
   ],
   "source": [
    "df.head()"
   ]
  },
  {
   "cell_type": "markdown",
   "metadata": {},
   "source": [
    "<b> From the text analysis that we did for \"sentiment_analysis_ml\" and \"sentiment_analysis_ml\" we already know the nature of text, we will now proceed directly with text processing and will build a model for topic extraction<b>"
   ]
  },
  {
   "cell_type": "code",
   "execution_count": 4,
   "metadata": {},
   "outputs": [],
   "source": [
    "df = df.drop(labels=['asin', 'helpful','reviewTime','reviewerID','reviewerName','summary', 'unixReviewTime'], axis=1)"
   ]
  },
  {
   "cell_type": "markdown",
   "metadata": {},
   "source": [
    "### Let's Preprocess the text"
   ]
  },
  {
   "cell_type": "code",
   "execution_count": 5,
   "metadata": {},
   "outputs": [],
   "source": [
    "# #Removing puncuations from the text\n",
    "\n",
    "# punct = \"/-'?!.,#$%\\'()*+-/:;<=>@[\\\\]^_`{|}~\" + '\"\"“”’' + '∞θ÷α•à−β∅³π‘₹´°£€\\×™√²—–&'\n",
    "\n",
    "# def fix_punc(sentence, punct):\n",
    "#     for p in punct:\n",
    "#         sentence = sentence.replace(p, '')\n",
    "#     return sentence"
   ]
  },
  {
   "cell_type": "code",
   "execution_count": 6,
   "metadata": {},
   "outputs": [],
   "source": [
    "# df['reviewText'] = df['reviewText'].apply(lambda x: fix_punc(x, punct))"
   ]
  },
  {
   "cell_type": "code",
   "execution_count": 7,
   "metadata": {},
   "outputs": [],
   "source": [
    "df['issapce'] = df['reviewText'].apply(lambda x: x.isspace())"
   ]
  },
  {
   "cell_type": "code",
   "execution_count": 8,
   "metadata": {},
   "outputs": [
    {
     "data": {
      "text/plain": [
       "False    194439\n",
       "Name: issapce, dtype: int64"
      ]
     },
     "execution_count": 8,
     "metadata": {},
     "output_type": "execute_result"
    }
   ],
   "source": [
    "df['issapce'].value_counts()"
   ]
  },
  {
   "cell_type": "code",
   "execution_count": 9,
   "metadata": {},
   "outputs": [],
   "source": [
    "# Convert to list\n",
    "import re\n",
    "\n",
    "data = df['reviewText'].head(500).values.tolist()\n",
    "\n",
    "# Removing Emails\n",
    "data = [re.sub('\\S*@\\S*\\s?', '', sent) for sent in data]\n",
    "\n",
    "# Removing new line characters\n",
    "data = [re.sub('\\s+', ' ', sent) for sent in data]\n",
    "\n",
    "# Remove single quotes\n",
    "data = [re.sub(\"\\'\", \"\", sent) for sent in data]"
   ]
  },
  {
   "cell_type": "code",
   "execution_count": 10,
   "metadata": {},
   "outputs": [
    {
     "name": "stdout",
     "output_type": "stream",
     "text": [
      "['They look good and stick good! I just dont like the rounded shape because I was always bumping it and Siri kept popping up and it was irritating. I just wont buy a product like this again', 'These stickers work like the review says they do. They stick on great and they stay on the phone. They are super stylish and I can share them with my sister. :)', 'These are awesome and make my phone look so stylish! I have only used one so far and have had it on for almost a year! CAN YOU BELIEVE THAT! ONE YEAR!! Great quality!', 'Item arrived in great time and was in perfect condition. However, I ordered these buttons because they were a great deal and included a FREE screen protector. I never received one. Though its not a big deal, it wouldve been nice to get it since they claim it comes with one.', 'awesome! stays on, and looks great. can be used on multiple apple products. especially having nails, it helps to have an elevated key.']\n"
     ]
    }
   ],
   "source": [
    "print(data[:5])"
   ]
  },
  {
   "cell_type": "markdown",
   "metadata": {},
   "source": [
    "<b> Tokeninzing the corpus"
   ]
  },
  {
   "cell_type": "code",
   "execution_count": 11,
   "metadata": {},
   "outputs": [],
   "source": [
    "def tokenize(sentences):\n",
    "    for sentence in sentences:\n",
    "        yield(gensim.utils.simple_preprocess(str(sentence), deacc=True)) #deacc=True will remove puncuations\n",
    "\n",
    "data_words = list(tokenize(data))"
   ]
  },
  {
   "cell_type": "code",
   "execution_count": 12,
   "metadata": {},
   "outputs": [
    {
     "data": {
      "text/plain": [
       "[['they',\n",
       "  'look',\n",
       "  'good',\n",
       "  'and',\n",
       "  'stick',\n",
       "  'good',\n",
       "  'just',\n",
       "  'dont',\n",
       "  'like',\n",
       "  'the',\n",
       "  'rounded',\n",
       "  'shape',\n",
       "  'because',\n",
       "  'was',\n",
       "  'always',\n",
       "  'bumping',\n",
       "  'it',\n",
       "  'and',\n",
       "  'siri',\n",
       "  'kept',\n",
       "  'popping',\n",
       "  'up',\n",
       "  'and',\n",
       "  'it',\n",
       "  'was',\n",
       "  'irritating',\n",
       "  'just',\n",
       "  'wont',\n",
       "  'buy',\n",
       "  'product',\n",
       "  'like',\n",
       "  'this',\n",
       "  'again']]"
      ]
     },
     "execution_count": 12,
     "metadata": {},
     "output_type": "execute_result"
    }
   ],
   "source": [
    "data_words[:1]"
   ]
  },
  {
   "cell_type": "markdown",
   "metadata": {},
   "source": [
    "#### Let's move ahead by creating a Bi-gram model\n",
    "\n",
    "This model will find two words frequently occurring together in the document."
   ]
  },
  {
   "cell_type": "code",
   "execution_count": 13,
   "metadata": {},
   "outputs": [],
   "source": [
    "bigram = gensim.models.Phrases(data_words, min_count=5, threshold=100)\n",
    "\n",
    "# Faster way to get a sentence clubbed as bigram\n",
    "bigram_mod = gensim.models.phrases.Phraser(bigram)"
   ]
  },
  {
   "cell_type": "markdown",
   "metadata": {},
   "source": [
    "<b> Time to remove stopwords, lemmatize the corpus and prepare bigrams"
   ]
  },
  {
   "cell_type": "code",
   "execution_count": 14,
   "metadata": {},
   "outputs": [],
   "source": [
    "import nltk\n",
    "# nltk.download('stopwords')\n",
    "from nltk.corpus import stopwords\n",
    "stop_words = stopwords.words('english')\n",
    "\n",
    "def remove_stopwords(texts):\n",
    "    return [[word for word in simple_preprocess(str(doc)) if word not in stop_words] for doc in texts]\n",
    "\n",
    "def make_bigrams(texts):\n",
    "    return [bigram_mod[doc] for doc in texts]\n",
    "\n",
    "def lemmatization(texts, allowed_postags=['NOUN', 'ADJ', 'VERB', 'ADV']):\n",
    "    texts_out = []\n",
    "    for sent in texts:\n",
    "        doc = nlp(\" \".join(sent)) \n",
    "        texts_out.append([token.lemma_ for token in doc if token.pos_ in allowed_postags])\n",
    "    return texts_out"
   ]
  },
  {
   "cell_type": "code",
   "execution_count": 15,
   "metadata": {},
   "outputs": [],
   "source": [
    "data_words_nostops = remove_stopwords(data_words)\n",
    "\n",
    "data_words_bigrams = make_bigrams(data_words_nostops)\n",
    "\n",
    "# Initialize spacy 'en' model, keeping only tagger component (for efficiency)\n",
    "nlp = spacy.load('en', disable=['parser', 'ner'])\n",
    "\n",
    "# Do lemmatization keeping only noun, adj, vb, adv\n",
    "data_lemmatized = lemmatization(data_words_bigrams, allowed_postags=['NOUN', 'ADJ', 'VERB', 'ADV'])"
   ]
  },
  {
   "cell_type": "markdown",
   "metadata": {},
   "source": [
    "<b> Above series of steps are very time consuming, we will be saving pickle file for the lemmatized data so that incase of any faliure we don't have to run these steps again"
   ]
  },
  {
   "cell_type": "code",
   "execution_count": 16,
   "metadata": {},
   "outputs": [],
   "source": [
    "# import pickle\n",
    "\n",
    "# file = open('lemma', 'wb')\n",
    "# pickle.dump(data_lemmatized, file)                      \n",
    "# file.close() "
   ]
  },
  {
   "cell_type": "code",
   "execution_count": 17,
   "metadata": {},
   "outputs": [],
   "source": [
    "# with open(\"lemma\", \"rb\") as input_file:\n",
    "#     data_lemmatized = pickle.load(input_file)"
   ]
  },
  {
   "cell_type": "code",
   "execution_count": 18,
   "metadata": {},
   "outputs": [
    {
     "data": {
      "text/plain": [
       "[['look',\n",
       "  'good',\n",
       "  'stick',\n",
       "  'good',\n",
       "  'do',\n",
       "  'not',\n",
       "  'like',\n",
       "  'rounded',\n",
       "  'shape',\n",
       "  'always',\n",
       "  'bump',\n",
       "  'siri',\n",
       "  'keep',\n",
       "  'pop',\n",
       "  'irritate',\n",
       "  'not',\n",
       "  'buy',\n",
       "  'product']]"
      ]
     },
     "execution_count": 18,
     "metadata": {},
     "output_type": "execute_result"
    }
   ],
   "source": [
    "data_lemmatized[:1]"
   ]
  },
  {
   "cell_type": "markdown",
   "metadata": {},
   "source": [
    "Let's build the vocab from corpus and create Term Document Frequency"
   ]
  },
  {
   "cell_type": "code",
   "execution_count": 19,
   "metadata": {},
   "outputs": [],
   "source": [
    "# Create Dictionary\n",
    "id2word = corpora.Dictionary(data_lemmatized)\n",
    "texts = data_lemmatized\n",
    "\n",
    "# Term Document Frequency\n",
    "corpus = [id2word.doc2bow(text) for text in texts]"
   ]
  },
  {
   "cell_type": "markdown",
   "metadata": {},
   "source": [
    "### Time to build a model for performing Topic Modelling\n",
    "\n",
    "<b> We will be using LDA Model for topic modelling.\n",
    "    LDA uses <a href=\"https://en.wikipedia.org/wiki/Dirichlet_distribution\"> __Dirichlet Distribution__</a> to\n",
    "    find the Latent Topics in the document.\n",
    "    Details regaring how the algorithm performs the topic modelling can be found on this <a href=\"http://www.jmlr.org/papers/volume3/blei03a/blei03a.pdf\">Link</a>."
   ]
  },
  {
   "cell_type": "code",
   "execution_count": 20,
   "metadata": {},
   "outputs": [],
   "source": [
    "# Build LDA model\n",
    "lda_model = gensim.models.ldamodel.LdaModel(corpus=corpus,\n",
    "                                           id2word=id2word,\n",
    "                                           num_topics=10, \n",
    "                                           random_state=17,\n",
    "                                           update_every=1,\n",
    "                                           chunksize=100,\n",
    "                                           passes=10,\n",
    "                                           alpha='auto',\n",
    "                                           per_word_topics=True)"
   ]
  },
  {
   "cell_type": "markdown",
   "metadata": {},
   "source": [
    "#### Very Computationally expensive took around 2 hours to get trained, on the local CPU"
   ]
  },
  {
   "cell_type": "code",
   "execution_count": 21,
   "metadata": {},
   "outputs": [],
   "source": [
    "# file = open('lda', 'wb')\n",
    "\n",
    "# pickle.dump(lda_model, file)                      \n",
    "# file.close() "
   ]
  },
  {
   "cell_type": "code",
   "execution_count": 22,
   "metadata": {},
   "outputs": [],
   "source": [
    "# with open(\"lda\", \"rb\") as input_file:\n",
    "#     lda_model = pickle.load(input_file)"
   ]
  },
  {
   "cell_type": "code",
   "execution_count": 23,
   "metadata": {},
   "outputs": [
    {
     "data": {
      "text/plain": [
       "[(0,\n",
       "  '0.043*\"want\" + 0.041*\"give\" + 0.039*\"design\" + 0.032*\"color\" + 0.031*\"tablet\" + 0.027*\"receive\" + 0.027*\"small\" + 0.020*\"star\" + 0.016*\"item\" + 0.015*\"excellent\"'),\n",
       " (1,\n",
       "  '0.126*\"charge\" + 0.066*\"device\" + 0.060*\"charger\" + 0.041*\"power\" + 0.031*\"review\" + 0.027*\"plug\" + 0.021*\"light\" + 0.021*\"car\" + 0.018*\"ipad\" + 0.016*\"samsung\"'),\n",
       " (2,\n",
       "  '0.044*\"use\" + 0.042*\"not\" + 0.034*\"phone\" + 0.029*\"get\" + 0.028*\"battery\" + 0.026*\"work\" + 0.025*\"good\" + 0.025*\"do\" + 0.022*\"well\" + 0.019*\"be\"'),\n",
       " (3,\n",
       "  '0.132*\"iphone\" + 0.124*\"product\" + 0.045*\"note\" + 0.035*\"mount\" + 0.035*\"fast\" + 0.021*\"picture\" + 0.019*\"everything\" + 0.015*\"holder\" + 0.014*\"bulk\" + 0.013*\"pad\"'),\n",
       " (4,\n",
       "  '0.097*\"case\" + 0.051*\"phone\" + 0.041*\"great\" + 0.033*\"look\" + 0.033*\"screen\" + 0.027*\"fit\" + 0.023*\"easy\" + 0.022*\"love\" + 0.020*\"feel\" + 0.019*\"nice\"'),\n",
       " (5,\n",
       "  '0.118*\"cable\" + 0.103*\"usb\" + 0.089*\"port\" + 0.032*\"apple\" + 0.024*\"wall\" + 0.023*\"connect\" + 0.022*\"sample\" + 0.021*\"micro\" + 0.018*\"simple\" + 0.015*\"lightning\"'),\n",
       " (6,\n",
       "  '0.036*\"would\" + 0.035*\"also\" + 0.024*\"little\" + 0.018*\"see\" + 0.017*\"keep\" + 0.017*\"hold\" + 0.016*\"enough\" + 0.015*\"think\" + 0.013*\"size\" + 0.013*\"could\"'),\n",
       " (7,\n",
       "  '0.086*\"button\" + 0.054*\"feature\" + 0.048*\"s\" + 0.043*\"call\" + 0.040*\"pack\" + 0.025*\"almost\" + 0.024*\"press\" + 0.015*\"access\" + 0.014*\"slide\" + 0.014*\"there\"'),\n",
       " (8,\n",
       "  '0.034*\"camera\" + 0.030*\"app\" + 0.025*\"phone\" + 0.020*\"watch\" + 0.019*\"nexus\" + 0.019*\"htc\" + 0.015*\"otterbox\" + 0.015*\"video\" + 0.015*\"card\" + 0.014*\"photo\"'),\n",
       " (9,\n",
       "  '0.077*\"speaker\" + 0.059*\"sound\" + 0.049*\"bluetooth\" + 0.031*\"music\" + 0.021*\"headset\" + 0.020*\"headphone\" + 0.019*\"smartphone\" + 0.019*\"wireless\" + 0.018*\"volume\" + 0.018*\"ear\"')]"
      ]
     },
     "execution_count": 23,
     "metadata": {},
     "output_type": "execute_result"
    }
   ],
   "source": [
    "[topic for topic in lda_model.print_topics()]"
   ]
  },
  {
   "cell_type": "markdown",
   "metadata": {},
   "source": [
    "<b> Interpreting topics:<br>\n",
    "* Topic 0 is represented by '0.043*\"want\" + 0.041*\"give\" + 0.039*\"design\" + 0.032*\"color\" + 0.031*\"tablet\" + 0.027*\"receive\" + 0.027*\"small\" + 0.020*\"star\" + 0.016*\"item\" + 0.015*\"excellent\"'<br>\n",
    "    \n",
    "__It means the top 10 keywords that contribute to this topic are: ‘want’, ‘give’, ‘design’.. and so on and the weight of ‘want’ on topic 0 is 0.043.__"
   ]
  },
  {
   "cell_type": "markdown",
   "metadata": {},
   "source": [
    "<b> Let's check the coherence score it is measurue to judge how good the model is.\n",
    "    \n",
    "*    Interpretation of Coherence Score is present in this StackOverflow post <a href=\"https://stackoverflow.com/questions/54762690/coherence-score-0-4-is-good-or-bad\">Link</a>"
   ]
  },
  {
   "cell_type": "code",
   "execution_count": 24,
   "metadata": {},
   "outputs": [
    {
     "name": "stdout",
     "output_type": "stream",
     "text": [
      "\n",
      "Coherence Score:  0.40262278606849095\n"
     ]
    }
   ],
   "source": [
    "coherence_model_lda = CoherenceModel(model=lda_model, texts=data_lemmatized, dictionary=id2word, coherence='c_v')\n",
    "coherence_lda = coherence_model_lda.get_coherence()\n",
    "print('\\nCoherence Score: ', coherence_lda)"
   ]
  },
  {
   "cell_type": "markdown",
   "metadata": {},
   "source": [
    "<b>Note: Scope of Improvement:</b><br>\n",
    "* Score is not bad actually it indicates that number of topics chosen is not correct, we can further experiment with the number of topics to obtain, so as to get a better Coherence Score.<br>\n",
    "* Tri-grams and orhe n-grams models can be experimented with,\n",
    "\n",
    "<a href=\"https://en.wikipedia.org/wiki/Elbow_method_(clustering)\">__Elbow Method__ </a>can be used to find the right number of topics."
   ]
  },
  {
   "cell_type": "markdown",
   "metadata": {},
   "source": [
    "### Let's Visualize our Topics\n",
    "\n",
    "(Warning: Long Running Process)"
   ]
  },
  {
   "cell_type": "code",
   "execution_count": 25,
   "metadata": {},
   "outputs": [
    {
     "data": {
      "text/html": [
       "\n",
       "<link rel=\"stylesheet\" type=\"text/css\" href=\"https://cdn.rawgit.com/bmabey/pyLDAvis/files/ldavis.v1.0.0.css\">\n",
       "\n",
       "\n",
       "<div id=\"ldavis_el49551402733206476802485932402\"></div>\n",
       "<script type=\"text/javascript\">\n",
       "\n",
       "var ldavis_el49551402733206476802485932402_data = {\"mdsDat\": {\"x\": [-0.2911109336237794, -0.26626826315056923, -0.06854905911219639, -0.09057160280318056, 0.13032558351132584, 0.09678296187167337, 0.152320936741118, 0.02226695353842256, 0.14630923382001215, 0.1684941892071744], \"y\": [-0.1317927898119176, 0.006559512885512938, 0.41099777319825126, -0.07314701998445086, -0.06391593664183265, -0.10278920030486499, 0.024242166001374826, -0.08773173844371651, 0.06733715195066542, -0.049759918849021624], \"topics\": [1, 2, 3, 4, 5, 6, 7, 8, 9, 10], \"cluster\": [1, 1, 1, 1, 1, 1, 1, 1, 1, 1], \"Freq\": [30.75027084350586, 18.617313385009766, 13.927515029907227, 9.79189395904541, 6.453234672546387, 4.773025989532471, 4.16820764541626, 4.105085849761963, 3.7509045600891113, 3.6625430583953857]}, \"tinfo\": {\"Category\": [\"Default\", \"Default\", \"Default\", \"Default\", \"Default\", \"Default\", \"Default\", \"Default\", \"Default\", \"Default\", \"Default\", \"Default\", \"Default\", \"Default\", \"Default\", \"Default\", \"Default\", \"Default\", \"Default\", \"Default\", \"Default\", \"Default\", \"Default\", \"Default\", \"Default\", \"Default\", \"Default\", \"Default\", \"Default\", \"Default\", \"Topic1\", \"Topic1\", \"Topic1\", \"Topic1\", \"Topic1\", \"Topic1\", \"Topic1\", \"Topic1\", \"Topic1\", \"Topic1\", \"Topic1\", \"Topic1\", \"Topic1\", \"Topic1\", \"Topic1\", \"Topic1\", \"Topic1\", \"Topic1\", \"Topic1\", \"Topic1\", \"Topic1\", \"Topic1\", \"Topic1\", \"Topic1\", \"Topic1\", \"Topic1\", \"Topic1\", \"Topic1\", \"Topic1\", \"Topic1\", \"Topic1\", \"Topic1\", \"Topic1\", \"Topic1\", \"Topic1\", \"Topic1\", \"Topic1\", \"Topic1\", \"Topic1\", \"Topic1\", \"Topic1\", \"Topic1\", \"Topic1\", \"Topic2\", \"Topic2\", \"Topic2\", \"Topic2\", \"Topic2\", \"Topic2\", \"Topic2\", \"Topic2\", \"Topic2\", \"Topic2\", \"Topic2\", \"Topic2\", \"Topic2\", \"Topic2\", \"Topic2\", \"Topic2\", \"Topic2\", \"Topic2\", \"Topic2\", \"Topic2\", \"Topic2\", \"Topic2\", \"Topic2\", \"Topic2\", \"Topic2\", \"Topic2\", \"Topic2\", \"Topic2\", \"Topic2\", \"Topic2\", \"Topic2\", \"Topic2\", \"Topic2\", \"Topic2\", \"Topic2\", \"Topic2\", \"Topic2\", \"Topic2\", \"Topic3\", \"Topic3\", \"Topic3\", \"Topic3\", \"Topic3\", \"Topic3\", \"Topic3\", \"Topic3\", \"Topic3\", \"Topic3\", \"Topic3\", \"Topic3\", \"Topic3\", \"Topic3\", \"Topic3\", \"Topic3\", \"Topic3\", \"Topic3\", \"Topic3\", \"Topic3\", \"Topic3\", \"Topic3\", \"Topic3\", \"Topic3\", \"Topic3\", \"Topic3\", \"Topic3\", \"Topic3\", \"Topic3\", \"Topic3\", \"Topic3\", \"Topic3\", \"Topic3\", \"Topic3\", \"Topic3\", \"Topic4\", \"Topic4\", \"Topic4\", \"Topic4\", \"Topic4\", \"Topic4\", \"Topic4\", \"Topic4\", \"Topic4\", \"Topic4\", \"Topic4\", \"Topic4\", \"Topic4\", \"Topic4\", \"Topic4\", \"Topic4\", \"Topic4\", \"Topic4\", \"Topic4\", \"Topic4\", \"Topic4\", \"Topic4\", \"Topic4\", \"Topic4\", \"Topic4\", \"Topic4\", \"Topic4\", \"Topic4\", \"Topic4\", \"Topic4\", \"Topic4\", \"Topic4\", \"Topic4\", \"Topic4\", \"Topic4\", \"Topic4\", \"Topic4\", \"Topic4\", \"Topic4\", \"Topic5\", \"Topic5\", \"Topic5\", \"Topic5\", \"Topic5\", \"Topic5\", \"Topic5\", \"Topic5\", \"Topic5\", \"Topic5\", \"Topic5\", \"Topic5\", \"Topic5\", \"Topic5\", \"Topic5\", \"Topic5\", \"Topic5\", \"Topic5\", \"Topic5\", \"Topic5\", \"Topic5\", \"Topic5\", \"Topic5\", \"Topic5\", \"Topic5\", \"Topic5\", \"Topic5\", \"Topic5\", \"Topic5\", \"Topic5\", \"Topic5\", \"Topic5\", \"Topic5\", \"Topic5\", \"Topic6\", \"Topic6\", \"Topic6\", \"Topic6\", \"Topic6\", \"Topic6\", \"Topic6\", \"Topic6\", \"Topic6\", \"Topic6\", \"Topic6\", \"Topic6\", \"Topic6\", \"Topic6\", \"Topic6\", \"Topic6\", \"Topic6\", \"Topic6\", \"Topic6\", \"Topic6\", \"Topic6\", \"Topic6\", \"Topic6\", \"Topic6\", \"Topic6\", \"Topic6\", \"Topic6\", \"Topic6\", \"Topic6\", \"Topic6\", \"Topic6\", \"Topic6\", \"Topic6\", \"Topic6\", \"Topic6\", \"Topic6\", \"Topic7\", \"Topic7\", \"Topic7\", \"Topic7\", \"Topic7\", \"Topic7\", \"Topic7\", \"Topic7\", \"Topic7\", \"Topic7\", \"Topic7\", \"Topic7\", \"Topic7\", \"Topic7\", \"Topic7\", \"Topic7\", \"Topic7\", \"Topic7\", \"Topic7\", \"Topic7\", \"Topic7\", \"Topic7\", \"Topic7\", \"Topic7\", \"Topic7\", \"Topic7\", \"Topic7\", \"Topic7\", \"Topic7\", \"Topic7\", \"Topic8\", \"Topic8\", \"Topic8\", \"Topic8\", \"Topic8\", \"Topic8\", \"Topic8\", \"Topic8\", \"Topic8\", \"Topic8\", \"Topic8\", \"Topic8\", \"Topic8\", \"Topic8\", \"Topic8\", \"Topic8\", \"Topic8\", \"Topic8\", \"Topic8\", \"Topic8\", \"Topic8\", \"Topic8\", \"Topic8\", \"Topic8\", \"Topic8\", \"Topic8\", \"Topic8\", \"Topic8\", \"Topic8\", \"Topic8\", \"Topic8\", \"Topic8\", \"Topic8\", \"Topic8\", \"Topic8\", \"Topic8\", \"Topic8\", \"Topic9\", \"Topic9\", \"Topic9\", \"Topic9\", \"Topic9\", \"Topic9\", \"Topic9\", \"Topic9\", \"Topic9\", \"Topic9\", \"Topic9\", \"Topic9\", \"Topic9\", \"Topic9\", \"Topic9\", \"Topic9\", \"Topic9\", \"Topic9\", \"Topic9\", \"Topic9\", \"Topic9\", \"Topic9\", \"Topic9\", \"Topic9\", \"Topic9\", \"Topic9\", \"Topic9\", \"Topic9\", \"Topic9\", \"Topic9\", \"Topic9\", \"Topic9\", \"Topic9\", \"Topic10\", \"Topic10\", \"Topic10\", \"Topic10\", \"Topic10\", \"Topic10\", \"Topic10\", \"Topic10\", \"Topic10\", \"Topic10\", \"Topic10\", \"Topic10\", \"Topic10\", \"Topic10\", \"Topic10\", \"Topic10\", \"Topic10\", \"Topic10\", \"Topic10\", \"Topic10\", \"Topic10\", \"Topic10\", \"Topic10\", \"Topic10\", \"Topic10\", \"Topic10\", \"Topic10\", \"Topic10\", \"Topic10\", \"Topic10\", \"Topic10\", \"Topic10\"], \"Freq\": [148754.0, 102386.0, 45437.0, 173123.0, 42598.0, 106718.0, 53745.0, 36726.0, 48212.0, 117460.0, 63404.0, 31896.0, 30386.0, 27599.0, 74944.0, 25996.0, 50883.0, 50622.0, 70018.0, 40163.0, 42620.0, 33421.0, 65228.0, 62696.0, 23357.0, 41360.0, 65459.0, 23029.0, 21923.0, 25414.0, 106717.6953125, 74943.625, 70018.1875, 65228.03125, 62695.53125, 48121.19921875, 40990.4609375, 39343.9765625, 33995.50390625, 33027.0859375, 30818.341796875, 27071.12109375, 24403.49609375, 24176.7265625, 21840.833984375, 21261.208984375, 20913.255859375, 20225.173828125, 19660.080078125, 19536.99609375, 18743.33984375, 18315.7890625, 17091.71484375, 16768.921875, 16356.0048828125, 15378.9013671875, 14334.353515625, 13614.306640625, 12354.78515625, 11795.3232421875, 31127.40234375, 18296.310546875, 110851.9921875, 62830.52734375, 17700.333984375, 24065.9140625, 41942.890625, 56590.64453125, 35964.03125, 86130.671875, 27331.525390625, 23714.978515625, 20071.49609375, 148754.25, 63403.9375, 50882.66796875, 50622.09765625, 41359.91796875, 33696.80078125, 31271.28125, 26970.435546875, 23317.115234375, 21114.208984375, 19558.859375, 16369.4931640625, 15706.546875, 14701.6376953125, 14587.5068359375, 13741.96875, 12071.3330078125, 10602.083984375, 10057.12109375, 9969.044921875, 9676.8857421875, 9495.529296875, 8415.5400390625, 8362.0703125, 8175.25244140625, 8182.4892578125, 8045.2392578125, 7411.24609375, 7209.0673828125, 6957.13232421875, 34827.21875, 29463.8125, 20554.03515625, 78388.203125, 13754.1806640625, 10683.0859375, 11154.134765625, 12168.314453125, 40163.37890625, 20848.353515625, 19189.0078125, 19085.578125, 18488.59765625, 17743.904296875, 14960.9765625, 14870.876953125, 13880.9189453125, 13753.337890625, 13222.5380859375, 13035.666015625, 12995.28125, 12972.939453125, 10509.927734375, 10485.3837890625, 10143.23046875, 9941.8994140625, 9822.2880859375, 8812.4794921875, 8567.3349609375, 8425.93359375, 8363.5068359375, 8213.890625, 8049.9326171875, 7828.01708984375, 7659.50048828125, 7012.0546875, 6944.0498046875, 6760.42626953125, 27902.26171875, 11168.5361328125, 41014.5625, 9862.607421875, 14707.4765625, 102385.4765625, 53744.921875, 48212.0625, 33420.515625, 25413.869140625, 21952.8359375, 16769.404296875, 14400.046875, 12172.162109375, 10047.78125, 9867.4296875, 7278.5751953125, 7052.81884765625, 6995.4892578125, 6877.04638671875, 6660.77978515625, 6598.85693359375, 5560.0244140625, 5342.37646484375, 5273.72314453125, 5183.83154296875, 5140.9423828125, 4617.02001953125, 4588.4404296875, 4358.07373046875, 3934.35888671875, 3862.760986328125, 3736.230712890625, 3725.43017578125, 3669.83984375, 16943.0703125, 12156.986328125, 13121.6630859375, 9223.7109375, 11536.8173828125, 10084.541015625, 7182.5595703125, 7268.97314453125, 6607.49853515625, 21922.58203125, 21069.23046875, 17327.8515625, 16423.947265625, 14604.4931640625, 10408.7578125, 8761.6953125, 8193.880859375, 7883.83447265625, 7206.98291015625, 6997.16796875, 6840.9267578125, 6721.8779296875, 5504.9912109375, 5399.37158203125, 4738.9658203125, 4658.03515625, 4638.13720703125, 4264.63720703125, 4228.38134765625, 4209.767578125, 4211.18408203125, 3951.627197265625, 3926.51220703125, 3871.37158203125, 3815.62890625, 3383.830322265625, 3364.165283203125, 3345.234619140625, 3329.049560546875, 23022.921875, 6197.49267578125, 14415.2958984375, 4717.68359375, 30385.638671875, 23356.466796875, 19363.35546875, 12339.9765625, 8377.041015625, 7977.52880859375, 7404.05859375, 7399.06640625, 7088.25390625, 5993.39599609375, 5516.74609375, 4970.69921875, 4722.57275390625, 3914.27099609375, 3603.898193359375, 3375.224365234375, 3234.82373046875, 2768.813232421875, 2712.4482421875, 2673.230224609375, 2640.962890625, 2632.19189453125, 2619.079345703125, 2391.22216796875, 2279.270751953125, 2213.326904296875, 2207.0478515625, 2208.145263671875, 2146.6767578125, 1935.3388671875, 6112.27490234375, 7140.220703125, 4131.4267578125, 2882.354736328125, 3512.73095703125, 2378.6015625, 45436.98828125, 42598.05859375, 15523.2685546875, 12209.3623046875, 12121.568359375, 7143.9970703125, 6479.59619140625, 5128.34619140625, 4680.96240234375, 4635.5068359375, 4341.70703125, 4103.07666015625, 4019.87841796875, 3560.86572265625, 3506.246337890625, 3457.397705078125, 2640.59765625, 2597.33544921875, 2390.13427734375, 2321.958984375, 2289.03369140625, 2241.776611328125, 2172.740234375, 2037.1004638671875, 1822.8232421875, 1784.1488037109375, 1754.43994140625, 1738.1522216796875, 1735.4984130859375, 1725.2056884765625, 11530.7421875, 10070.8583984375, 6922.09375, 6483.875, 6385.494140625, 5206.2041015625, 5125.56884765625, 4934.00244140625, 4837.58935546875, 4352.88134765625, 3122.037353515625, 2852.93310546875, 2855.5849609375, 2330.0263671875, 2313.982421875, 2008.296630859375, 1943.785400390625, 1933.615234375, 1886.4608154296875, 1851.765380859375, 1843.8480224609375, 1706.767822265625, 1617.4627685546875, 1572.5146484375, 1539.9373779296875, 1523.8983154296875, 1500.9013671875, 1481.06298828125, 1431.890625, 1369.5286865234375, 2485.32763671875, 2967.189697265625, 2910.3115234375, 4199.89208984375, 8604.03125, 1872.7305908203125, 1980.999755859375, 36726.2890625, 31895.419921875, 27599.16015625, 10048.69140625, 7566.13330078125, 7063.51904296875, 6964.40380859375, 6531.51806640625, 5602.0859375, 4612.21337890625, 4556.69677734375, 3547.58349609375, 3545.12841796875, 3370.09375, 3152.98828125, 3070.364501953125, 2815.08642578125, 2655.125244140625, 2548.39404296875, 2452.30517578125, 2249.8798828125, 2246.1962890625, 2199.449951171875, 1746.9139404296875, 1741.67236328125, 1666.5693359375, 1500.4571533203125, 1483.8802490234375, 1361.22705078125, 1351.1845703125, 1734.46630859375, 2205.9404296875, 2030.2545166015625, 25995.703125, 16388.412109375, 14487.0107421875, 13011.4296875, 12195.578125, 7607.9453125, 7202.205078125, 4510.56005859375, 4281.3720703125, 4160.9423828125, 3509.63525390625, 3404.794921875, 3307.67236328125, 3110.779052734375, 3050.24169921875, 2918.291748046875, 2643.8818359375, 2289.421875, 2261.5009765625, 2235.763671875, 2092.025146484375, 1995.162353515625, 1757.735595703125, 1730.4263916015625, 1667.2225341796875, 1635.047119140625, 1579.007568359375, 1554.83935546875, 1333.6334228515625, 1293.9356689453125, 2143.421630859375, 3178.3701171875], \"Term\": [\"case\", \"charge\", \"iphone\", \"phone\", \"product\", \"not\", \"device\", \"cable\", \"charger\", \"use\", \"great\", \"usb\", \"speaker\", \"port\", \"get\", \"button\", \"look\", \"screen\", \"battery\", \"also\", \"would\", \"power\", \"work\", \"do\", \"sound\", \"fit\", \"good\", \"want\", \"give\", \"review\", \"not\", \"get\", \"battery\", \"work\", \"do\", \"be\", \"go\", \"come\", \"take\", \"quality\", \"have\", \"even\", \"find\", \"thing\", \"still\", \"try\", \"say\", \"first\", \"unit\", \"day\", \"protection\", \"seem\", \"know\", \"problem\", \"lot\", \"plastic\", \"many\", \"far\", \"something\", \"full\", \"much\", \"may\", \"use\", \"good\", \"pretty\", \"buy\", \"time\", \"well\", \"really\", \"phone\", \"need\", \"make\", \"price\", \"case\", \"great\", \"look\", \"screen\", \"fit\", \"love\", \"feel\", \"protector\", \"cover\", \"recommend\", \"protect\", \"drop\", \"include\", \"perfect\", \"hard\", \"add\", \"however\", \"perfectly\", \"bank\", \"carry\", \"pocket\", \"free\", \"front\", \"edge\", \"remove\", \"rubber\", \"order\", \"cell\", \"sturdy\", \"scratch\", \"easy\", \"nice\", \"back\", \"phone\", \"put\", \"issue\", \"provide\", \"make\", \"also\", \"see\", \"keep\", \"hold\", \"enough\", \"think\", \"size\", \"could\", \"able\", \"easily\", \"place\", \"right\", \"bit\", \"big\", \"top\", \"clear\", \"large\", \"pair\", \"lead\", \"definitely\", \"part\", \"quite\", \"show\", \"blue\", \"touch\", \"output\", \"extra\", \"overall\", \"change\", \"solid\", \"little\", \"leave\", \"would\", \"allow\", \"make\", \"charge\", \"device\", \"charger\", \"power\", \"review\", \"plug\", \"car\", \"ipad\", \"cord\", \"mah\", \"turn\", \"android\", \"amp\", \"capacity\", \"portable\", \"fully\", \"adapter\", \"travel\", \"read\", \"recharge\", \"external\", \"rate\", \"highly\", \"compact\", \"option\", \"update\", \"manufacturer\", \"handy\", \"experience\", \"exactly\", \"light\", \"way\", \"samsung\", \"hour\", \"galaxy\", \"provide\", \"small\", \"need\", \"use\", \"give\", \"design\", \"color\", \"tablet\", \"receive\", \"star\", \"item\", \"excellent\", \"less\", \"offer\", \"open\", \"quickly\", \"home\", \"durable\", \"honest\", \"cost\", \"soft\", \"version\", \"tip\", \"friend\", \"similar\", \"store\", \"convenient\", \"rather\", \"expensive\", \"push\", \"ask\", \"stylus\", \"value\", \"choice\", \"want\", \"better\", \"small\", \"compare\", \"speaker\", \"sound\", \"bluetooth\", \"music\", \"headset\", \"headphone\", \"smartphone\", \"wireless\", \"ear\", \"control\", \"audio\", \"range\", \"hear\", \"loud\", \"comfortable\", \"snap\", \"sometimes\", \"voice\", \"hope\", \"head\", \"lightweight\", \"indicator\", \"wire\", \"answer\", \"backup\", \"receiver\", \"flexible\", \"shape\", \"remote\", \"earbud\", \"play\", \"volume\", \"set\", \"wear\", \"hour\", \"way\", \"iphone\", \"product\", \"note\", \"mount\", \"fast\", \"picture\", \"everything\", \"holder\", \"bulk\", \"pad\", \"protective\", \"thank\", \"pull\", \"air\", \"metal\", \"arm\", \"beautiful\", \"slow\", \"handle\", \"live\", \"otherwise\", \"suction\", \"securely\", \"hot\", \"description\", \"heart_rate\", \"satisfied\", \"suction_cup\", \"bumper\", \"pink\", \"camera\", \"app\", \"watch\", \"nexus\", \"htc\", \"otterbox\", \"video\", \"card\", \"photo\", \"display\", \"flash\", \"gb\", \"exchange\", \"email\", \"sensor\", \"service\", \"release\", \"personally\", \"husband\", \"keyboard\", \"download\", \"bar\", \"sticky\", \"text\", \"message\", \"software\", \"rubbery\", \"memory\", \"file\", \"game\", \"window\", \"support\", \"user\", \"samsung\", \"phone\", \"available\", \"play\", \"cable\", \"usb\", \"port\", \"apple\", \"wall\", \"connect\", \"sample\", \"micro\", \"simple\", \"lightning\", \"connector\", \"mini\", \"standard\", \"install\", \"connection\", \"computer\", \"talk\", \"mode\", \"speed\", \"mobile\", \"supply\", \"pin\", \"laptop\", \"source\", \"ability\", \"datum\", \"input\", \"nfc\", \"automatically\", \"additional\", \"builtin\", \"inch\", \"foot\", \"button\", \"feature\", \"s\", \"call\", \"pack\", \"almost\", \"press\", \"access\", \"slide\", \"there\", \"bass\", \"difficult\", \"longer\", \"favorite\", \"finger\", \"cut\", \"cute\", \"lack\", \"fantastic\", \"unique\", \"stylish\", \"kickstand\", \"shipping\", \"status\", \"somewhat\", \"opening\", \"ring\", \"series\", \"accessible\", \"headphone_jack\", \"functionality\", \"volume\"], \"Total\": [148754.0, 102386.0, 45437.0, 173123.0, 42598.0, 106718.0, 53745.0, 36726.0, 48212.0, 117460.0, 63404.0, 31896.0, 30386.0, 27599.0, 74944.0, 25996.0, 50883.0, 50622.0, 70018.0, 40163.0, 42620.0, 33421.0, 65228.0, 62696.0, 23357.0, 41360.0, 65459.0, 23029.0, 21923.0, 25414.0, 106718.265625, 74944.1953125, 70018.7578125, 65228.6015625, 62696.1015625, 48121.76953125, 40991.03125, 39344.546875, 33996.07421875, 33027.65625, 30818.91015625, 27071.689453125, 24404.064453125, 24177.294921875, 21841.40234375, 21261.77734375, 20913.82421875, 20225.7421875, 19660.6484375, 19537.564453125, 18743.908203125, 18316.357421875, 17092.283203125, 16769.490234375, 16356.572265625, 15379.46875, 14334.9208984375, 13614.8740234375, 12355.3525390625, 11795.890625, 31131.515625, 18333.1484375, 117460.0078125, 65459.98046875, 17803.97265625, 24748.4765625, 45014.515625, 63188.265625, 39515.30078125, 173123.328125, 34601.015625, 50591.19921875, 25720.220703125, 148754.8125, 63404.5078125, 50883.23828125, 50622.66796875, 41360.48828125, 33697.37109375, 31271.849609375, 26971.00390625, 23317.68359375, 21114.77734375, 19559.427734375, 16370.0615234375, 15707.115234375, 14702.2060546875, 14588.0751953125, 13742.537109375, 12071.9013671875, 10602.65234375, 10057.689453125, 9969.61328125, 9677.4541015625, 9496.09765625, 8416.1083984375, 8362.638671875, 8175.8203125, 8183.05712890625, 8045.80712890625, 7411.814453125, 7209.6357421875, 6957.7001953125, 36913.109375, 33129.90625, 27790.259765625, 173123.328125, 20396.876953125, 13546.205078125, 21239.19140625, 50591.19921875, 40163.95703125, 20848.9296875, 19189.583984375, 19086.154296875, 18489.173828125, 17744.48046875, 14961.5517578125, 14871.4521484375, 13881.494140625, 13753.9130859375, 13223.11328125, 13036.2412109375, 12995.8564453125, 12973.5146484375, 10510.5029296875, 10485.958984375, 10143.8056640625, 9942.474609375, 9822.86328125, 8813.0546875, 8567.91015625, 8426.5087890625, 8364.08203125, 8214.4658203125, 8050.50830078125, 7828.59326171875, 7660.076171875, 7012.63037109375, 6944.62548828125, 6761.00244140625, 28100.53125, 11180.59765625, 42620.1953125, 10007.4619140625, 50591.19921875, 102386.0703125, 53745.51171875, 48212.65234375, 33421.10546875, 25414.458984375, 21953.42578125, 16769.994140625, 14400.6357421875, 12172.7509765625, 10048.3701171875, 9868.0185546875, 7279.1640625, 7053.40771484375, 6996.078125, 6877.63525390625, 6661.36865234375, 6599.44580078125, 5560.61328125, 5342.96533203125, 5274.31201171875, 5184.42041015625, 5141.53125, 4617.60888671875, 4589.029296875, 4358.66259765625, 3934.948486328125, 3863.350341796875, 3736.81982421875, 3726.01953125, 3670.428955078125, 20229.494140625, 14536.119140625, 17322.080078125, 12736.97265625, 19266.6171875, 21239.19140625, 21598.376953125, 34601.015625, 117460.0078125, 21923.158203125, 21069.806640625, 17328.427734375, 16424.5234375, 14605.0673828125, 10409.33203125, 8762.26953125, 8194.455078125, 7884.40966796875, 7207.55810546875, 6997.7431640625, 6841.501953125, 6722.453125, 5505.56640625, 5399.94677734375, 4739.541015625, 4658.6103515625, 4638.71240234375, 4265.21240234375, 4228.95654296875, 4210.3427734375, 4211.75927734375, 3952.20263671875, 3927.08740234375, 3871.946533203125, 3816.2041015625, 3384.405517578125, 3364.740234375, 3345.809814453125, 3329.624755859375, 23029.76953125, 6544.17626953125, 21598.376953125, 5703.46728515625, 30386.22265625, 23357.05078125, 19363.939453125, 12340.560546875, 8377.625, 7978.11376953125, 7404.6435546875, 7399.6513671875, 7088.8388671875, 5993.98095703125, 5517.3310546875, 4971.2841796875, 4723.15771484375, 3914.85546875, 3604.483154296875, 3375.809326171875, 3235.408935546875, 2769.39794921875, 2713.033447265625, 2673.8154296875, 2641.548095703125, 2632.777099609375, 2619.664306640625, 2391.80712890625, 2279.85595703125, 2213.91162109375, 2207.633056640625, 2208.73046875, 2147.261962890625, 1935.923583984375, 8093.794921875, 10319.1083984375, 9235.2197265625, 4556.23974609375, 12736.97265625, 14536.119140625, 45437.5625, 42598.6328125, 15523.8408203125, 12209.9345703125, 12122.140625, 7144.5693359375, 6480.16845703125, 5128.91845703125, 4681.53466796875, 4636.0791015625, 4342.279296875, 4103.64892578125, 4020.450927734375, 3561.438232421875, 3506.81884765625, 3457.969970703125, 2641.169921875, 2597.907958984375, 2390.706787109375, 2322.531494140625, 2289.60595703125, 2242.3486328125, 2173.3125, 2037.6727294921875, 1823.3955078125, 1784.7294921875, 1755.01220703125, 1738.7244873046875, 1736.070556640625, 1725.77783203125, 11531.3203125, 10071.4365234375, 6922.67138671875, 6484.45263671875, 6386.07177734375, 5206.78173828125, 5126.146484375, 4934.580078125, 4838.1669921875, 4353.458984375, 3122.615234375, 2853.510498046875, 2856.1630859375, 2330.603759765625, 2314.56005859375, 2008.8743896484375, 1944.3631591796875, 1934.1929931640625, 1887.03857421875, 1852.3431396484375, 1844.42578125, 1707.3455810546875, 1618.04052734375, 1573.09228515625, 1540.51513671875, 1524.4759521484375, 1501.479248046875, 1481.640625, 1432.4683837890625, 1370.1063232421875, 2499.0673828125, 4023.127197265625, 4534.8720703125, 17322.080078125, 173123.328125, 3811.70751953125, 8093.794921875, 36726.8828125, 31896.015625, 27599.755859375, 10049.2880859375, 7566.72998046875, 7064.11572265625, 6965.00048828125, 6532.11474609375, 5602.6826171875, 4612.81005859375, 4557.29345703125, 3548.18017578125, 3545.72509765625, 3370.6904296875, 3153.5849609375, 3070.9609375, 2815.683349609375, 2655.72216796875, 2548.990478515625, 2452.90185546875, 2250.476318359375, 2246.792724609375, 2200.04638671875, 1747.510498046875, 1742.26904296875, 1667.1658935546875, 1501.0537109375, 1484.476806640625, 1361.82373046875, 1351.7811279296875, 1963.9713134765625, 5677.76171875, 4946.12646484375, 25996.279296875, 16388.98828125, 14487.5859375, 13012.0048828125, 12196.1533203125, 7608.5205078125, 7202.7802734375, 4511.13525390625, 4281.947265625, 4161.517578125, 3510.21044921875, 3405.3701171875, 3308.247802734375, 3111.3544921875, 3050.81689453125, 2918.866943359375, 2644.457275390625, 2289.997314453125, 2262.076416015625, 2236.339111328125, 2092.6005859375, 1995.7376708984375, 1758.3109130859375, 1731.0018310546875, 1667.7978515625, 1635.6224365234375, 1579.5828857421875, 1555.4146728515625, 1334.208740234375, 1294.510986328125, 2286.842041015625, 10319.1083984375], \"loglift\": [30.0, 29.0, 28.0, 27.0, 26.0, 25.0, 24.0, 23.0, 22.0, 21.0, 20.0, 19.0, 18.0, 17.0, 16.0, 15.0, 14.0, 13.0, 12.0, 11.0, 10.0, 9.0, 8.0, 7.0, 6.0, 5.0, 4.0, 3.0, 2.0, 1.0, 1.1792999505996704, 1.1792999505996704, 1.1792999505996704, 1.1792999505996704, 1.1792999505996704, 1.1792999505996704, 1.1792999505996704, 1.1792999505996704, 1.1792999505996704, 1.1792999505996704, 1.1792999505996704, 1.1792999505996704, 1.1792000532150269, 1.1792000532150269, 1.1792000532150269, 1.1792000532150269, 1.1792000532150269, 1.1792000532150269, 1.1792000532150269, 1.1792000532150269, 1.1792000532150269, 1.1792000532150269, 1.1792000532150269, 1.1792000532150269, 1.1792000532150269, 1.1792000532150269, 1.1792000532150269, 1.1792000532150269, 1.1792000532150269, 1.1792000532150269, 1.1791000366210938, 1.177299976348877, 1.121399998664856, 1.1382999420166016, 1.1734000444412231, 1.1512999534606934, 1.1086000204086304, 1.069000005722046, 1.0851000547409058, 0.4810999929904938, 0.9434000253677368, 0.42160001397132874, 0.9312999844551086, 1.6811000108718872, 1.6811000108718872, 1.6811000108718872, 1.6811000108718872, 1.6811000108718872, 1.6811000108718872, 1.6811000108718872, 1.6811000108718872, 1.6811000108718872, 1.6811000108718872, 1.680999994277954, 1.680999994277954, 1.680999994277954, 1.680999994277954, 1.680999994277954, 1.680999994277954, 1.680999994277954, 1.680999994277954, 1.680999994277954, 1.680999994277954, 1.680999994277954, 1.680999994277954, 1.680999994277954, 1.680999994277954, 1.680999994277954, 1.680999994277954, 1.680999994277954, 1.680999994277954, 1.680999994277954, 1.680999994277954, 1.6229000091552734, 1.5637999773025513, 1.3794000148773193, 0.888700008392334, 1.2869999408721924, 1.443600058555603, 1.0369999408721924, 0.25609999895095825, 1.9713000059127808, 1.9713000059127808, 1.9713000059127808, 1.9713000059127808, 1.9713000059127808, 1.9713000059127808, 1.9713000059127808, 1.9713000059127808, 1.9713000059127808, 1.9713000059127808, 1.9713000059127808, 1.9713000059127808, 1.9713000059127808, 1.9713000059127808, 1.9711999893188477, 1.9711999893188477, 1.9711999893188477, 1.9711999893188477, 1.9711999893188477, 1.9711999893188477, 1.9711999893188477, 1.9711999893188477, 1.9711999893188477, 1.9711999893188477, 1.9711999893188477, 1.9711999893188477, 1.9711999893188477, 1.9711999893188477, 1.9711999893188477, 1.9711999893188477, 1.9642000198364258, 1.9701999425888062, 1.9328999519348145, 1.9566999673843384, 0.7358999848365784, 2.3236000537872314, 2.3236000537872314, 2.3236000537872314, 2.3236000537872314, 2.3236000537872314, 2.3236000537872314, 2.3236000537872314, 2.3236000537872314, 2.3236000537872314, 2.3236000537872314, 2.3236000537872314, 2.323499917984009, 2.323499917984009, 2.323499917984009, 2.323499917984009, 2.323499917984009, 2.323499917984009, 2.323499917984009, 2.323499917984009, 2.323499917984009, 2.323499917984009, 2.323499917984009, 2.323499917984009, 2.323499917984009, 2.323499917984009, 2.323499917984009, 2.323499917984009, 2.323499917984009, 2.323499917984009, 2.323499917984009, 2.1463000774383545, 2.14490008354187, 2.0459001064300537, 2.0009000301361084, 1.8107999563217163, 1.5787999629974365, 1.2226999998092651, 0.7633000016212463, -0.5543000102043152, 2.740600109100342, 2.740600109100342, 2.740600109100342, 2.740600109100342, 2.740499973297119, 2.740499973297119, 2.740499973297119, 2.740499973297119, 2.740499973297119, 2.740499973297119, 2.740499973297119, 2.740499973297119, 2.740499973297119, 2.740499973297119, 2.740499973297119, 2.740499973297119, 2.740499973297119, 2.740499973297119, 2.740499973297119, 2.740499973297119, 2.740499973297119, 2.740499973297119, 2.7404000759124756, 2.7404000759124756, 2.7404000759124756, 2.7404000759124756, 2.7404000759124756, 2.7404000759124756, 2.7404000759124756, 2.7404000759124756, 2.740299940109253, 2.686199903488159, 2.3362998962402344, 2.550800085067749, 3.0422000885009766, 3.0422000885009766, 3.0422000885009766, 3.042099952697754, 3.042099952697754, 3.042099952697754, 3.042099952697754, 3.042099952697754, 3.042099952697754, 3.042099952697754, 3.042099952697754, 3.042099952697754, 3.042099952697754, 3.0420000553131104, 3.0420000553131104, 3.0420000553131104, 3.0420000553131104, 3.0420000553131104, 3.0420000553131104, 3.0420000553131104, 3.0420000553131104, 3.0420000553131104, 3.0420000553131104, 3.0418999195098877, 3.0418999195098877, 3.0418999195098877, 3.0418999195098877, 3.0418999195098877, 3.0418999195098877, 3.0418999195098877, 2.761399984359741, 2.6738998889923096, 2.237799882888794, 2.5843000411987305, 1.75409996509552, 1.232100009918213, 3.1777000427246094, 3.1777000427246094, 3.1775999069213867, 3.1775999069213867, 3.1775999069213867, 3.1775999069213867, 3.1775999069213867, 3.1775999069213867, 3.1775999069213867, 3.1775999069213867, 3.1775999069213867, 3.177500009536743, 3.177500009536743, 3.177500009536743, 3.177500009536743, 3.177500009536743, 3.177500009536743, 3.177500009536743, 3.1774001121520996, 3.1774001121520996, 3.1774001121520996, 3.1774001121520996, 3.1774001121520996, 3.1774001121520996, 3.1774001121520996, 3.1774001121520996, 3.1774001121520996, 3.1774001121520996, 3.1774001121520996, 3.1774001121520996, 3.1928999423980713, 3.1928999423980713, 3.1928999423980713, 3.1928999423980713, 3.1928999423980713, 3.1928000450134277, 3.1928000450134277, 3.1928000450134277, 3.1928000450134277, 3.1928000450134277, 3.1928000450134277, 3.192699909210205, 3.192699909210205, 3.192699909210205, 3.192699909210205, 3.192699909210205, 3.1926000118255615, 3.1926000118255615, 3.1926000118255615, 3.1926000118255615, 3.1926000118255615, 3.1926000118255615, 3.1926000118255615, 3.1926000118255615, 3.1926000118255615, 3.1926000118255615, 3.1926000118255615, 3.1926000118255615, 3.192500114440918, 3.192500114440918, 3.1874001026153564, 2.8884999752044678, 2.7493999004364014, 1.7760000228881836, 0.19120000302791595, 2.482300043106079, 1.7854000329971313, 3.2832000255584717, 3.2832000255584717, 3.2832000255584717, 3.283099889755249, 3.283099889755249, 3.283099889755249, 3.283099889755249, 3.283099889755249, 3.283099889755249, 3.2829999923706055, 3.2829999923706055, 3.2829999923706055, 3.2829999923706055, 3.2829999923706055, 3.2829999923706055, 3.2829999923706055, 3.2829999923706055, 3.282900094985962, 3.282900094985962, 3.282900094985962, 3.282900094985962, 3.282900094985962, 3.282900094985962, 3.2827999591827393, 3.2827999591827393, 3.2827999591827393, 3.2827999591827393, 3.2827999591827393, 3.2827000617980957, 3.2827000617980957, 3.158900022506714, 2.3378000259399414, 2.392699956893921, 3.306999921798706, 3.306999921798706, 3.306999921798706, 3.306999921798706, 3.306999921798706, 3.3069000244140625, 3.3069000244140625, 3.3069000244140625, 3.3069000244140625, 3.3069000244140625, 3.30679988861084, 3.30679988861084, 3.30679988861084, 3.30679988861084, 3.30679988861084, 3.30679988861084, 3.30679988861084, 3.30679988861084, 3.30679988861084, 3.30679988861084, 3.3066999912261963, 3.3066999912261963, 3.3066999912261963, 3.3066999912261963, 3.3066999912261963, 3.3066999912261963, 3.3066000938415527, 3.3066000938415527, 3.3066000938415527, 3.3066000938415527, 3.2421998977661133, 2.1294000148773193], \"logprob\": [30.0, 29.0, 28.0, 27.0, 26.0, 25.0, 24.0, 23.0, 22.0, 21.0, 20.0, 19.0, 18.0, 17.0, 16.0, 15.0, 14.0, 13.0, 12.0, 11.0, 10.0, 9.0, 8.0, 7.0, 6.0, 5.0, 4.0, 3.0, 2.0, 1.0, -3.170799970626831, -3.524199962615967, -3.5922000408172607, -3.663100004196167, -3.702699899673462, -3.9672000408172607, -4.127600193023682, -4.168600082397461, -4.314700126647949, -4.343599796295166, -4.412899971008301, -4.542500019073486, -4.646200180053711, -4.655600070953369, -4.757199764251709, -4.78410005569458, -4.800600051879883, -4.834000110626221, -4.862400054931641, -4.86870002746582, -4.910099983215332, -4.933199882507324, -5.002399921417236, -5.021399974822998, -5.04640007019043, -5.107999801635742, -5.178299903869629, -5.229800224304199, -5.326900005340576, -5.373300075531006, -4.402900218963623, -4.934299945831299, -3.1328001022338867, -3.700500011444092, -4.967400074005127, -4.660200119018555, -4.104700088500977, -3.8050999641418457, -4.258399963378906, -3.3850998878479004, -4.532899856567383, -4.674900054931641, -4.841700077056885, -2.336899995803833, -3.1895999908447266, -3.409600019454956, -3.414799928665161, -3.61680006980896, -3.8217999935150146, -3.8965001106262207, -4.044400215148926, -4.190000057220459, -4.2891998291015625, -4.365699768066406, -4.543700218200684, -4.585100173950195, -4.651199817657471, -4.658999919891357, -4.718699932098389, -4.848299980163574, -4.978099822998047, -5.030900001525879, -5.039700031280518, -5.069399833679199, -5.0883002281188965, -5.209099769592285, -5.2154998779296875, -5.23799991607666, -5.237199783325195, -5.2540998458862305, -5.33620023727417, -5.363800048828125, -5.399400234222412, -3.788800001144409, -3.9560000896453857, -4.316100120544434, -2.9774999618530273, -4.717800140380859, -4.9704999923706055, -4.927299976348877, -4.8403000831604, -3.3559999465942383, -4.01170015335083, -4.094600200653076, -4.099999904632568, -4.131800174713135, -4.172900199890137, -4.343500137329102, -4.3495001792907715, -4.418399810791016, -4.427700042724609, -4.4670000076293945, -4.481200218200684, -4.484300136566162, -4.486100196838379, -4.696599960327148, -4.698999881744385, -4.732100009918213, -4.752200126647949, -4.7642998695373535, -4.872799873352051, -4.901000022888184, -4.917600154876709, -4.925099849700928, -4.9430999755859375, -4.9633002281188965, -4.991199970245361, -5.013000011444092, -5.10129976272583, -5.111000061035156, -5.137800216674805, -3.7202000617980957, -4.635799884796143, -3.3350000381469727, -4.760200023651123, -4.360599994659424, -2.0678999423980713, -2.712399959564209, -2.821000099182129, -3.1875, -3.4612998962402344, -3.6077001094818115, -3.8770999908447266, -4.029399871826172, -4.197500228881836, -4.3892998695373535, -4.407400131225586, -4.711699962615967, -4.743199825286865, -4.751399993896484, -4.768400192260742, -4.8003997802734375, -4.809700012207031, -4.980999946594238, -5.020999908447266, -5.033899784088135, -5.05109977722168, -5.0594000816345215, -5.166900157928467, -5.173099994659424, -5.224599838256836, -5.326900005340576, -5.345200061798096, -5.378499984741211, -5.381400108337402, -5.396500110626221, -3.86680006980896, -4.198699951171875, -4.122399806976318, -4.474800109863281, -4.251100063323975, -4.3856000900268555, -4.724999904632568, -4.7129998207092285, -4.8084001541137695, -3.1921000480651855, -3.231800079345703, -3.427299976348877, -3.4809000492095947, -3.598299980163574, -3.937000036239624, -4.109300136566162, -4.176300048828125, -4.214799880981445, -4.304599761962891, -4.334099769592285, -4.3566999435424805, -4.374300003051758, -4.573999881744385, -4.593400001525879, -4.723800182342529, -4.741099834442139, -4.745299816131592, -4.8292999267578125, -4.837800025939941, -4.842199802398682, -4.841899871826172, -4.9054999351501465, -4.911900043487549, -4.926000118255615, -4.940499782562256, -5.0605998039245605, -5.066500186920166, -5.0721001625061035, -5.077000141143799, -3.143199920654297, -4.45550012588501, -3.6113998889923096, -4.728300094604492, -2.5641000270843506, -2.827199935913086, -3.014699935913086, -3.4651999473571777, -3.85260009765625, -3.901400089263916, -3.9760000705718994, -3.9767000675201416, -4.019599914550781, -4.187399864196777, -4.270299911499023, -4.374499797821045, -4.4257001876831055, -4.613399982452393, -4.696000099182129, -4.761600017547607, -4.804100036621094, -4.95959997177124, -4.980199813842773, -4.994800090789795, -5.006899833679199, -5.010200023651123, -5.015200138092041, -5.106200218200684, -5.154200077056885, -5.183499813079834, -5.186399936676025, -5.1859002113342285, -5.214099884033203, -5.317800045013428, -4.167699813842773, -4.01230001449585, -4.5594000816345215, -4.919400215148926, -4.721700191497803, -5.111499786376953, -2.02620005607605, -2.0906999111175537, -3.1001999378204346, -3.3403000831604004, -3.347599983215332, -3.876300096511841, -3.973900079727173, -4.207799911499023, -4.298999786376953, -4.308800220489502, -4.374300003051758, -4.430799961090088, -4.451300144195557, -4.572500228881836, -4.5879998207092285, -4.6020002365112305, -4.871500015258789, -4.8881001472473145, -4.971199989318848, -5.000100135803223, -5.014400005340576, -5.035299777984619, -5.0665998458862305, -5.13100004196167, -5.242199897766113, -5.263599872589111, -5.280399799346924, -5.289700031280518, -5.291299819946289, -5.2972002029418945, -3.3822999000549316, -3.5176000595092773, -3.8926000595092773, -3.9579999446868896, -3.973299980163574, -4.1774001121521, -4.1930999755859375, -4.231100082397461, -4.250899791717529, -4.356500148773193, -4.688799858093262, -4.778900146484375, -4.7779998779296875, -4.981400012969971, -4.98829984664917, -5.130000114440918, -5.162700176239014, -5.167900085449219, -5.192599773406982, -5.21120023727417, -5.215400218963623, -5.292699813842773, -5.346399784088135, -5.374599933624268, -5.395599842071533, -5.406000137329102, -5.421199798583984, -5.434500217437744, -5.468299865722656, -5.512800216674805, -4.916900157928467, -4.739699840545654, -4.758999824523926, -4.392199993133545, -3.675100088119507, -5.199900150299072, -5.143700122833252, -2.1335999965667725, -2.274600028991699, -2.419300079345703, -3.4296000003814697, -3.713399887084961, -3.782099962234497, -3.796299934387207, -3.8603999614715576, -4.013899803161621, -4.208399772644043, -4.2204999923706055, -4.470799922943115, -4.471499919891357, -4.52209997177124, -4.588699817657471, -4.615300178527832, -4.702099800109863, -4.7606000900268555, -4.801599979400635, -4.840000152587891, -4.926199913024902, -4.927800178527832, -4.94890022277832, -5.179200172424316, -5.182199954986572, -5.22629976272583, -5.331299781799316, -5.342400074005127, -5.428699970245361, -5.436100006103516, -5.186399936676025, -4.945899963378906, -5.028900146484375, -2.4553000926971436, -2.916599988937378, -3.0399999618530273, -3.14739990234375, -3.2121999263763428, -3.684000015258789, -3.738800048828125, -4.2067999839782715, -4.258900165557861, -4.287499904632568, -4.457699775695801, -4.48799991607666, -4.517000198364258, -4.578400135040283, -4.5980000495910645, -4.642199993133545, -4.741000175476074, -4.884900093078613, -4.897200107574463, -4.908599853515625, -4.975100040435791, -5.022500038146973, -5.149199962615967, -5.164899826049805, -5.202099800109863, -5.22160005569458, -5.256400108337402, -5.271900177001953, -5.425300121307373, -5.45550012588501, -4.950799942016602, -4.5569000244140625]}, \"token.table\": {\"Topic\": [9, 3, 10, 10, 4, 2, 9, 7, 3, 9, 10, 3, 4, 4, 6, 8, 9, 7, 5, 6, 9, 4, 8, 1, 2, 6, 2, 8, 10, 1, 1, 7, 5, 6, 3, 3, 3, 6, 6, 9, 7, 7, 10, 1, 2, 9, 10, 8, 4, 4, 8, 2, 2, 2, 3, 4, 4, 5, 3, 5, 1, 6, 4, 5, 6, 8, 9, 9, 9, 9, 6, 5, 4, 5, 3, 2, 10, 10, 9, 1, 3, 7, 5, 4, 10, 8, 1, 8, 2, 5, 6, 6, 3, 2, 6, 2, 8, 3, 1, 7, 4, 5, 8, 5, 4, 4, 3, 10, 1, 7, 10, 10, 2, 8, 1, 10, 1, 2, 8, 6, 1, 6, 9, 2, 5, 2, 1, 4, 8, 10, 2, 4, 8, 8, 1, 5, 1, 1, 2, 2, 7, 4, 2, 1, 6, 6, 10, 6, 6, 7, 4, 3, 7, 5, 5, 6, 7, 4, 6, 2, 8, 8, 3, 9, 2, 6, 9, 9, 4, 7, 2, 4, 5, 3, 8, 10, 1, 10, 9, 3, 3, 1, 3, 5, 3, 4, 9, 6, 2, 3, 7, 10, 2, 1, 6, 2, 4, 1, 2, 3, 4, 1, 1, 5, 8, 8, 7, 9, 9, 9, 9, 7, 1, 2, 6, 1, 4, 8, 9, 2, 3, 1, 7, 5, 5, 10, 4, 2, 7, 8, 3, 3, 10, 7, 3, 3, 2, 2, 8, 1, 2, 8, 8, 7, 9, 7, 3, 1, 6, 8, 4, 2, 9, 4, 4, 10, 1, 2, 3, 1, 2, 1, 7, 2, 1, 7, 2, 2, 4, 7, 5, 1, 2, 1, 5, 3, 6, 4, 5, 4, 1, 2, 5, 6, 4, 2, 8, 6, 2, 4, 3, 10, 2, 8, 10, 9, 4, 8, 7, 1, 2, 2, 7, 3, 1, 8, 10, 8, 1, 6, 8, 6, 10, 3, 5, 9, 3, 10, 7, 4, 5, 6, 6, 5, 8, 3, 1, 6, 10, 6, 9, 6, 9, 9, 5, 10, 8, 1, 5, 2, 10, 5, 7, 7, 9, 4, 6, 8, 5, 1, 9, 8, 7, 10, 1, 3, 1, 4, 5, 3, 3, 4, 1, 4, 10, 1, 4, 9, 1, 4, 4, 8, 5, 5, 8, 6, 6, 10, 9, 2, 5, 8, 4, 6, 2, 6, 1, 2, 6, 8, 6, 6, 1, 2, 3], \"Freq\": [0.999845564365387, 0.9999644160270691, 0.999970018863678, 0.9998435378074646, 0.9999324679374695, 0.9999608993530273, 0.9994221329689026, 0.9998769760131836, 0.9855645895004272, 0.014389262534677982, 0.9999315738677979, 0.9999761581420898, 0.9999421834945679, 0.9999774694442749, 0.9996625185012817, 0.9999566674232483, 0.999971330165863, 0.999719500541687, 0.9998801946640015, 0.9999399781227112, 0.9993951320648193, 0.5084335803985596, 0.49138084053993225, 0.26037898659706116, 0.7396116256713867, 0.9996245503425598, 0.9999314546585083, 0.9997975826263428, 0.999940037727356, 0.9999891519546509, 0.9999840259552002, 0.9999356865882874, 0.9469488263130188, 0.05287143588066101, 0.9999603033065796, 0.9999340772628784, 0.9999433159828186, 0.9999514818191528, 0.11660048365592957, 0.8829049468040466, 0.9998857975006104, 0.9993833303451538, 0.9999892711639404, 0.9724234938621521, 0.0275572519749403, 0.9999759793281555, 0.9999227523803711, 0.9999722242355347, 0.9998459219932556, 0.9999406933784485, 0.9998824596405029, 0.9999384880065918, 0.9999945163726807, 0.9998900890350342, 0.9999099373817444, 0.9999895691871643, 0.999986469745636, 0.9998123645782471, 0.9999085664749146, 0.999975323677063, 0.9999861121177673, 0.9998659491539001, 0.9997757077217102, 0.8272160887718201, 0.03822236508131027, 0.1344795972108841, 0.9996870756149292, 0.9999836087226868, 0.999814510345459, 0.9999356269836426, 0.9998363256454468, 0.9999487400054932, 0.9999383091926575, 0.9998858571052551, 0.9999696016311646, 0.9999706745147705, 0.9997029900550842, 0.9998270869255066, 0.9999005198478699, 0.9999710917472839, 0.999880313873291, 0.9997830986976624, 0.9999617338180542, 0.9999904632568359, 0.9998913407325745, 0.9998945593833923, 0.9999983906745911, 0.9997691512107849, 0.9999351501464844, 0.9998971223831177, 0.9998816847801208, 0.9995229244232178, 0.9999336004257202, 0.9434859752655029, 0.05648399889469147, 0.9999236464500427, 0.9997409582138062, 0.9999905824661255, 0.9999745488166809, 0.9999740123748779, 0.9998831152915955, 0.9999444484710693, 0.9999428987503052, 0.9997555613517761, 0.9997263550758362, 0.9999189376831055, 0.9999900460243225, 0.9999662041664124, 0.9999358057975769, 0.9999883770942688, 0.9998860359191895, 0.9999396800994873, 0.9999728202819824, 0.9996730089187622, 0.9999563694000244, 0.999732255935669, 0.9999632835388184, 0.9999881982803345, 0.9998029470443726, 0.9997132420539856, 0.3261137902736664, 0.26323628425598145, 0.4104221761226654, 0.9999896883964539, 0.9997738003730774, 0.9999871253967285, 0.9999244809150696, 0.9999446868896484, 0.06253165006637573, 0.9371001124382019, 0.40116021037101746, 0.5988077521324158, 0.9999223947525024, 0.999821126461029, 0.9999973773956299, 0.9999927878379822, 0.9999748468399048, 0.959838330745697, 0.040161941200494766, 0.9999920129776001, 0.9997043609619141, 0.9997805953025818, 0.9999948740005493, 0.9999704957008362, 0.9996950030326843, 0.9999857544898987, 0.9996052384376526, 0.9999253749847412, 0.9999666213989258, 0.9995912313461304, 0.9998681545257568, 0.9999918937683105, 0.9998209476470947, 0.999932587146759, 0.9998246431350708, 0.9996190667152405, 0.9996698498725891, 0.7241909503936768, 0.27581122517585754, 0.9999253153800964, 0.9998321533203125, 0.999449610710144, 0.6113324761390686, 0.3885333836078644, 0.9999926686286926, 0.9997048377990723, 0.9992980360984802, 0.999795138835907, 0.9999558329582214, 0.9999876022338867, 0.788634181022644, 0.2113507091999054, 0.9999692440032959, 0.9999695420265198, 0.9998147487640381, 0.9996303915977478, 0.9999834299087524, 0.9995644688606262, 0.9995243549346924, 0.9999205470085144, 0.9999121427536011, 0.0010732879163697362, 0.9989627003669739, 0.9999480247497559, 0.1624360978603363, 0.8375394940376282, 0.9998244047164917, 0.9997925162315369, 0.007046130020171404, 0.9929349422454834, 0.9997711777687073, 0.9999250769615173, 0.9999952912330627, 0.9999650120735168, 0.9997814893722534, 0.9999889731407166, 0.9999631643295288, 0.46875742077827454, 0.24051614105701447, 0.2907027304172516, 0.9999093413352966, 0.9999357461929321, 0.9979736804962158, 0.001963656162843108, 0.9995676279067993, 0.9996656179428101, 0.99976646900177, 0.9999824166297913, 0.9999492168426514, 0.9996323585510254, 0.9997280836105347, 0.9999234676361084, 0.9998549222946167, 0.0001284871541429311, 0.9999545812606812, 0.7899190187454224, 0.21008053421974182, 0.999930202960968, 0.9996787905693054, 0.889347493648529, 0.11065530776977539, 0.9999974966049194, 0.9999458193778992, 0.9999225735664368, 0.9998937845230103, 0.9996194243431091, 0.9998480081558228, 0.999899685382843, 0.9997353553771973, 0.9998498558998108, 0.9999242424964905, 0.9999101161956787, 0.9999874234199524, 0.9999829530715942, 0.9999522566795349, 0.9998937845230103, 0.9999859929084778, 0.9999384880065918, 0.999900221824646, 0.4975124001502991, 0.45278704166412354, 0.04969867318868637, 0.999965488910675, 0.9999203085899353, 0.9996472001075745, 0.9995492696762085, 0.9999914169311523, 0.9999695420265198, 0.7551463842391968, 0.24475540220737457, 0.999980628490448, 0.9999530911445618, 0.9999726414680481, 0.9999076128005981, 0.9999968409538269, 0.9998916983604431, 0.9941601157188416, 0.002078187884762883, 0.0037070377729833126, 0.7803587913513184, 0.21959376335144043, 0.9999707937240601, 0.9999851584434509, 0.9999781250953674, 0.9999515414237976, 0.9999356865882874, 0.9999628067016602, 0.5251612067222595, 0.474829763174057, 0.9998878240585327, 0.9999465346336365, 0.325638085603714, 0.6743189096450806, 0.9999801516532898, 0.9999266266822815, 0.9999396204948425, 0.9999428391456604, 0.9998966455459595, 0.9999777674674988, 0.9998193383216858, 0.9101284742355347, 0.08986392617225647, 0.9999269247055054, 0.9995882511138916, 0.9999408721923828, 0.9999631643295288, 0.9998131990432739, 0.9998779892921448, 0.999899685382843, 0.9999819397926331, 0.9999815225601196, 0.9996309876441956, 0.9998708367347717, 0.9996808171272278, 0.9999595284461975, 0.9998563528060913, 0.7575302720069885, 0.24246510863304138, 0.9994232654571533, 0.9999606013298035, 0.9998993873596191, 0.9999868273735046, 0.9998562335968018, 0.999955415725708, 0.9999805092811584, 0.9997580051422119, 0.9997333884239197, 0.9995647072792053, 0.4517488479614258, 0.44730934500694275, 0.1008097305893898, 0.9996692538261414, 0.9998231530189514, 0.9999901652336121, 0.9999185800552368, 0.9998781681060791, 0.999963104724884, 0.9997787475585938, 0.9996504783630371, 0.3325712978839874, 0.6674112677574158, 0.9999130964279175, 0.9997602701187134, 0.9998689889907837, 0.9996877908706665, 0.9998517036437988, 0.9999714493751526, 0.9998735785484314, 0.9995216131210327, 0.9999549984931946, 0.9997078776359558, 0.9999926686286926, 0.9996114373207092, 0.9997954964637756, 0.9999681115150452, 0.999421238899231, 0.9993569254875183, 0.9999815821647644, 0.9998196959495544, 0.9999118447303772, 0.9997130036354065, 0.999779999256134, 0.9998445510864258, 0.9995833039283752, 0.9997883439064026, 0.20233017206192017, 0.059903647750616074, 0.7374860048294067, 0.9999681115150452, 0.9999977946281433, 0.9997572898864746, 0.999941349029541, 0.9998418688774109, 0.9998756051063538, 0.999987781047821, 0.999972939491272, 0.9317660927772522, 0.06822244077920914, 0.9999502301216125, 0.9999521374702454, 0.9999368786811829, 0.9998897314071655, 0.9999634623527527, 0.999896764755249, 0.9998483657836914, 0.9999670386314392, 0.9997589588165283, 0.9999681711196899, 0.9437425136566162, 0.05624893307685852, 0.35811373591423035, 0.6416939496994019, 0.9997579455375671, 0.9998463988304138, 0.9999714493751526, 0.9998562932014465, 0.6919202208518982, 0.30797234177589417, 0.9999035000801086, 0.00026053233887068927, 0.9997060298919678, 0.9999030232429504, 0.8363305330276489, 0.16366128623485565, 0.3671887516975403, 0.6325391530990601, 0.895593523979187, 0.10440229624509811, 0.0052019404247403145, 0.9943709373474121, 0.9997464418411255, 0.9999119639396667, 0.9999907612800598, 0.0376582033932209, 0.9623371958732605], \"Term\": [\"ability\", \"able\", \"access\", \"accessible\", \"adapter\", \"add\", \"additional\", \"air\", \"allow\", \"allow\", \"almost\", \"also\", \"amp\", \"android\", \"answer\", \"app\", \"apple\", \"arm\", \"ask\", \"audio\", \"automatically\", \"available\", \"available\", \"back\", \"back\", \"backup\", \"bank\", \"bar\", \"bass\", \"battery\", \"be\", \"beautiful\", \"better\", \"better\", \"big\", \"bit\", \"blue\", \"bluetooth\", \"builtin\", \"builtin\", \"bulk\", \"bumper\", \"button\", \"buy\", \"buy\", \"cable\", \"call\", \"camera\", \"capacity\", \"car\", \"card\", \"carry\", \"case\", \"cell\", \"change\", \"charge\", \"charger\", \"choice\", \"clear\", \"color\", \"come\", \"comfortable\", \"compact\", \"compare\", \"compare\", \"compare\", \"computer\", \"connect\", \"connection\", \"connector\", \"control\", \"convenient\", \"cord\", \"cost\", \"could\", \"cover\", \"cut\", \"cute\", \"datum\", \"day\", \"definitely\", \"description\", \"design\", \"device\", \"difficult\", \"display\", \"do\", \"download\", \"drop\", \"durable\", \"ear\", \"earbud\", \"easily\", \"easy\", \"easy\", \"edge\", \"email\", \"enough\", \"even\", \"everything\", \"exactly\", \"excellent\", \"exchange\", \"expensive\", \"experience\", \"external\", \"extra\", \"fantastic\", \"far\", \"fast\", \"favorite\", \"feature\", \"feel\", \"file\", \"find\", \"finger\", \"first\", \"fit\", \"flash\", \"flexible\", \"foot\", \"foot\", \"foot\", \"free\", \"friend\", \"front\", \"full\", \"fully\", \"functionality\", \"functionality\", \"galaxy\", \"galaxy\", \"game\", \"gb\", \"get\", \"give\", \"go\", \"good\", \"good\", \"great\", \"handle\", \"handy\", \"hard\", \"have\", \"head\", \"headphone\", \"headphone_jack\", \"headset\", \"hear\", \"heart_rate\", \"highly\", \"hold\", \"holder\", \"home\", \"honest\", \"hope\", \"hot\", \"hour\", \"hour\", \"however\", \"htc\", \"husband\", \"inch\", \"inch\", \"include\", \"indicator\", \"input\", \"install\", \"ipad\", \"iphone\", \"issue\", \"issue\", \"item\", \"keep\", \"keyboard\", \"kickstand\", \"know\", \"lack\", \"laptop\", \"large\", \"lead\", \"leave\", \"leave\", \"less\", \"light\", \"light\", \"lightning\", \"lightweight\", \"little\", \"little\", \"live\", \"longer\", \"look\", \"lot\", \"loud\", \"love\", \"mah\", \"make\", \"make\", \"make\", \"manufacturer\", \"many\", \"may\", \"may\", \"memory\", \"message\", \"metal\", \"micro\", \"mini\", \"mobile\", \"mode\", \"mount\", \"much\", \"much\", \"music\", \"need\", \"need\", \"nexus\", \"nfc\", \"nice\", \"nice\", \"not\", \"note\", \"offer\", \"open\", \"opening\", \"option\", \"order\", \"otherwise\", \"otterbox\", \"output\", \"overall\", \"pack\", \"pad\", \"pair\", \"part\", \"perfect\", \"perfectly\", \"personally\", \"phone\", \"phone\", \"phone\", \"photo\", \"picture\", \"pin\", \"pink\", \"place\", \"plastic\", \"play\", \"play\", \"plug\", \"pocket\", \"port\", \"portable\", \"power\", \"press\", \"pretty\", \"pretty\", \"pretty\", \"price\", \"price\", \"problem\", \"product\", \"protect\", \"protection\", \"protective\", \"protector\", \"provide\", \"provide\", \"pull\", \"push\", \"put\", \"put\", \"quality\", \"quickly\", \"quite\", \"range\", \"rate\", \"rather\", \"read\", \"really\", \"really\", \"receive\", \"receiver\", \"recharge\", \"recommend\", \"release\", \"remote\", \"remove\", \"review\", \"right\", \"ring\", \"rubber\", \"rubbery\", \"s\", \"sample\", \"samsung\", \"samsung\", \"satisfied\", \"say\", \"scratch\", \"screen\", \"securely\", \"see\", \"seem\", \"sensor\", \"series\", \"service\", \"set\", \"set\", \"set\", \"shape\", \"shipping\", \"show\", \"similar\", \"simple\", \"size\", \"slide\", \"slow\", \"small\", \"small\", \"smartphone\", \"snap\", \"soft\", \"software\", \"solid\", \"something\", \"sometimes\", \"somewhat\", \"sound\", \"source\", \"speaker\", \"speed\", \"standard\", \"star\", \"status\", \"sticky\", \"still\", \"store\", \"sturdy\", \"stylish\", \"stylus\", \"suction\", \"suction_cup\", \"supply\", \"support\", \"support\", \"support\", \"tablet\", \"take\", \"talk\", \"text\", \"thank\", \"there\", \"thing\", \"think\", \"time\", \"time\", \"tip\", \"top\", \"touch\", \"travel\", \"try\", \"turn\", \"unique\", \"unit\", \"update\", \"usb\", \"use\", \"use\", \"user\", \"user\", \"value\", \"version\", \"video\", \"voice\", \"volume\", \"volume\", \"wall\", \"want\", \"want\", \"watch\", \"way\", \"way\", \"wear\", \"wear\", \"well\", \"well\", \"window\", \"window\", \"wire\", \"wireless\", \"work\", \"would\", \"would\"]}, \"R\": 30, \"lambda.step\": 0.01, \"plot.opts\": {\"xlab\": \"PC1\", \"ylab\": \"PC2\"}, \"topic.order\": [3, 5, 7, 2, 1, 10, 4, 9, 6, 8]};\n",
       "\n",
       "function LDAvis_load_lib(url, callback){\n",
       "  var s = document.createElement('script');\n",
       "  s.src = url;\n",
       "  s.async = true;\n",
       "  s.onreadystatechange = s.onload = callback;\n",
       "  s.onerror = function(){console.warn(\"failed to load library \" + url);};\n",
       "  document.getElementsByTagName(\"head\")[0].appendChild(s);\n",
       "}\n",
       "\n",
       "if(typeof(LDAvis) !== \"undefined\"){\n",
       "   // already loaded: just create the visualization\n",
       "   !function(LDAvis){\n",
       "       new LDAvis(\"#\" + \"ldavis_el49551402733206476802485932402\", ldavis_el49551402733206476802485932402_data);\n",
       "   }(LDAvis);\n",
       "}else if(typeof define === \"function\" && define.amd){\n",
       "   // require.js is available: use it to load d3/LDAvis\n",
       "   require.config({paths: {d3: \"https://cdnjs.cloudflare.com/ajax/libs/d3/3.5.5/d3.min\"}});\n",
       "   require([\"d3\"], function(d3){\n",
       "      window.d3 = d3;\n",
       "      LDAvis_load_lib(\"https://cdn.rawgit.com/bmabey/pyLDAvis/files/ldavis.v1.0.0.js\", function(){\n",
       "        new LDAvis(\"#\" + \"ldavis_el49551402733206476802485932402\", ldavis_el49551402733206476802485932402_data);\n",
       "      });\n",
       "    });\n",
       "}else{\n",
       "    // require.js not available: dynamically load d3 & LDAvis\n",
       "    LDAvis_load_lib(\"https://cdnjs.cloudflare.com/ajax/libs/d3/3.5.5/d3.min.js\", function(){\n",
       "         LDAvis_load_lib(\"https://cdn.rawgit.com/bmabey/pyLDAvis/files/ldavis.v1.0.0.js\", function(){\n",
       "                 new LDAvis(\"#\" + \"ldavis_el49551402733206476802485932402\", ldavis_el49551402733206476802485932402_data);\n",
       "            })\n",
       "         });\n",
       "}\n",
       "</script>"
      ],
      "text/plain": [
       "PreparedData(topic_coordinates=              x         y  topics  cluster       Freq\n",
       "topic                                                \n",
       "2     -0.291111 -0.131793       1        1  30.750271\n",
       "4     -0.266268  0.006560       2        1  18.617313\n",
       "6     -0.068549  0.410998       3        1  13.927515\n",
       "1     -0.090572 -0.073147       4        1   9.791894\n",
       "0      0.130326 -0.063916       5        1   6.453235\n",
       "9      0.096783 -0.102789       6        1   4.773026\n",
       "3      0.152321  0.024242       7        1   4.168208\n",
       "8      0.022267 -0.087732       8        1   4.105086\n",
       "5      0.146309  0.067337       9        1   3.750905\n",
       "7      0.168494 -0.049760      10        1   3.662543, topic_info=     Category           Freq            Term          Total  loglift  logprob\n",
       "87    Default  148754.000000            case  148754.000000  30.0000  30.0000\n",
       "78    Default  102386.000000          charge  102386.000000  29.0000  29.0000\n",
       "351   Default   45437.000000          iphone   45437.000000  28.0000  28.0000\n",
       "17    Default  173123.000000           phone  173123.000000  27.0000  27.0000\n",
       "11    Default   42598.000000         product   42598.000000  26.0000  26.0000\n",
       "9     Default  106718.000000             not  106718.000000  25.0000  25.0000\n",
       "329   Default   53745.000000          device   53745.000000  24.0000  24.0000\n",
       "312   Default   36726.000000           cable   36726.000000  23.0000  23.0000\n",
       "199   Default   48212.000000         charger   48212.000000  22.0000  22.0000\n",
       "33    Default  117460.000000             use  117460.000000  21.0000  21.0000\n",
       "16    Default   63404.000000           great   63404.000000  20.0000  20.0000\n",
       "333   Default   31896.000000             usb   31896.000000  19.0000  19.0000\n",
       "361   Default   30386.000000         speaker   30386.000000  18.0000  18.0000\n",
       "250   Default   27599.000000            port   27599.000000  17.0000  17.0000\n",
       "43    Default   74944.000000             get   74944.000000  16.0000  16.0000\n",
       "37    Default   25996.000000          button   25996.000000  15.0000  15.0000\n",
       "8     Default   50883.000000            look   50883.000000  14.0000  14.0000\n",
       "55    Default   50622.000000          screen   50622.000000  13.0000  13.0000\n",
       "84    Default   70018.000000         battery   70018.000000  12.0000  12.0000\n",
       "141   Default   40163.000000            also   40163.000000  11.0000  11.0000\n",
       "71    Default   42620.000000           would   42620.000000  10.0000  10.0000\n",
       "105   Default   33421.000000           power   33421.000000   9.0000   9.0000\n",
       "26    Default   65228.000000            work   65228.000000   8.0000   8.0000\n",
       "3     Default   62696.000000              do   62696.000000   7.0000   7.0000\n",
       "929   Default   23357.000000           sound   23357.000000   6.0000   6.0000\n",
       "109   Default   41360.000000             fit   41360.000000   5.0000   5.0000\n",
       "4     Default   65459.000000            good   65459.000000   4.0000   4.0000\n",
       "254   Default   23029.000000            want   23029.000000   3.0000   3.0000\n",
       "288   Default   21923.000000            give   21923.000000   2.0000   2.0000\n",
       "18    Default   25414.000000          review   25414.000000   1.0000   1.0000\n",
       "...       ...            ...             ...            ...      ...      ...\n",
       "207   Topic10   14487.010742               s   14487.585938   3.3070  -3.0400\n",
       "204   Topic10   13011.429688            call   13012.004883   3.3070  -3.1474\n",
       "953   Topic10   12195.578125            pack   12196.153320   3.3070  -3.2122\n",
       "27    Topic10    7607.945312          almost    7608.520508   3.3069  -3.6840\n",
       "2165  Topic10    7202.205078           press    7202.780273   3.3069  -3.7388\n",
       "83    Topic10    4510.560059          access    4511.135254   3.3069  -4.2068\n",
       "917   Topic10    4281.372070           slide    4281.947266   3.3069  -4.2589\n",
       "847   Topic10    4160.942383           there    4161.517578   3.3069  -4.2875\n",
       "2087  Topic10    3509.635254            bass    3510.210449   3.3068  -4.4577\n",
       "1587  Topic10    3404.794922       difficult    3405.370117   3.3068  -4.4880\n",
       "464   Topic10    3307.672363          longer    3308.247803   3.3068  -4.5170\n",
       "540   Topic10    3110.779053        favorite    3111.354492   3.3068  -4.5784\n",
       "1546  Topic10    3050.241699          finger    3050.816895   3.3068  -4.5980\n",
       "1048  Topic10    2918.291748             cut    2918.866943   3.3068  -4.6422\n",
       "73    Topic10    2643.881836            cute    2644.457275   3.3068  -4.7410\n",
       "839   Topic10    2289.421875            lack    2289.997314   3.3068  -4.8849\n",
       "101   Topic10    2261.500977       fantastic    2262.076416   3.3068  -4.8972\n",
       "1643  Topic10    2235.763672          unique    2236.339111   3.3068  -4.9086\n",
       "24    Topic10    2092.025146         stylish    2092.600586   3.3067  -4.9751\n",
       "952   Topic10    1995.162354       kickstand    1995.737671   3.3067  -5.0225\n",
       "467   Topic10    1757.735596        shipping    1758.310913   3.3067  -5.1492\n",
       "954   Topic10    1730.426392          status    1731.001831   3.3067  -5.1649\n",
       "1343  Topic10    1667.222534        somewhat    1667.797852   3.3067  -5.2021\n",
       "1051  Topic10    1635.047119         opening    1635.622437   3.3067  -5.2216\n",
       "2324  Topic10    1579.007568            ring    1579.582886   3.3066  -5.2564\n",
       "4125  Topic10    1554.839355          series    1555.414673   3.3066  -5.2719\n",
       "3734  Topic10    1333.633423      accessible    1334.208740   3.3066  -5.4253\n",
       "1476  Topic10    1293.935669  headphone_jack    1294.510986   3.3066  -5.4555\n",
       "938   Topic10    2143.421631   functionality    2286.842041   3.2422  -4.9508\n",
       "1443  Topic10    3178.370117          volume   10319.108398   2.1294  -4.5569\n",
       "\n",
       "[387 rows x 6 columns], token_table=      Topic      Freq           Term\n",
       "term                                \n",
       "520       9  0.999846        ability\n",
       "261       3  0.999964           able\n",
       "83       10  0.999970         access\n",
       "3734     10  0.999844     accessible\n",
       "282       4  0.999932        adapter\n",
       "113       2  0.999961            add\n",
       "850       9  0.999422     additional\n",
       "2518      7  0.999877            air\n",
       "851       3  0.985565          allow\n",
       "851       9  0.014389          allow\n",
       "27       10  0.999932         almost\n",
       "141       3  0.999976           also\n",
       "257       4  0.999942            amp\n",
       "364       4  0.999977        android\n",
       "2423      6  0.999663         answer\n",
       "1596      8  0.999957            app\n",
       "57        9  0.999971          apple\n",
       "1336      7  0.999720            arm\n",
       "72        5  0.999880            ask\n",
       "1500      6  0.999940          audio\n",
       "1321      9  0.999395  automatically\n",
       "1767      4  0.508434      available\n",
       "1767      8  0.491381      available\n",
       "365       1  0.260379           back\n",
       "365       2  0.739612           back\n",
       "635       6  0.999625         backup\n",
       "5954      2  0.999931           bank\n",
       "2143      8  0.999798            bar\n",
       "2087     10  0.999940           bass\n",
       "84        1  0.999989        battery\n",
       "...     ...       ...            ...\n",
       "241       1  0.999967           unit\n",
       "281       4  0.999759         update\n",
       "333       9  0.999968            usb\n",
       "33        1  0.943743            use\n",
       "33        4  0.056249            use\n",
       "1616      4  0.358114           user\n",
       "1616      8  0.641694           user\n",
       "217       5  0.999758          value\n",
       "219       5  0.999846        version\n",
       "1617      8  0.999971          video\n",
       "1455      6  0.999856          voice\n",
       "1443      6  0.691920         volume\n",
       "1443     10  0.307972         volume\n",
       "586       9  0.999904           wall\n",
       "254       2  0.000261           want\n",
       "254       5  0.999706           want\n",
       "1560      8  0.999903          watch\n",
       "275       4  0.836331            way\n",
       "275       6  0.163661            way\n",
       "193       2  0.367189           wear\n",
       "193       6  0.632539           wear\n",
       "69        1  0.895594           well\n",
       "69        2  0.104402           well\n",
       "762       6  0.005202         window\n",
       "762       8  0.994371         window\n",
       "413       6  0.999746           wire\n",
       "1224      6  0.999912       wireless\n",
       "26        1  0.999991           work\n",
       "71        2  0.037658          would\n",
       "71        3  0.962337          would\n",
       "\n",
       "[395 rows x 3 columns], R=30, lambda_step=0.01, plot_opts={'xlab': 'PC1', 'ylab': 'PC2'}, topic_order=[3, 5, 7, 2, 1, 10, 4, 9, 6, 8])"
      ]
     },
     "execution_count": 25,
     "metadata": {},
     "output_type": "execute_result"
    }
   ],
   "source": [
    "pyLDAvis.enable_notebook()\n",
    "vis = pyLDAvis.gensim.prepare(lda_model, corpus, id2word)\n",
    "vis"
   ]
  },
  {
   "cell_type": "markdown",
   "metadata": {},
   "source": [
    "<b> The visualization shows how topics distribution of different topics, along with the frequency words that form those topics"
   ]
  },
  {
   "cell_type": "markdown",
   "metadata": {},
   "source": [
    "Thanks for Reading!! The End."
   ]
  },
  {
   "cell_type": "code",
   "execution_count": null,
   "metadata": {},
   "outputs": [],
   "source": []
  }
 ],
 "metadata": {
  "kernelspec": {
   "display_name": "Python 3",
   "language": "python",
   "name": "python3"
  },
  "language_info": {
   "codemirror_mode": {
    "name": "ipython",
    "version": 3
   },
   "file_extension": ".py",
   "mimetype": "text/x-python",
   "name": "python",
   "nbconvert_exporter": "python",
   "pygments_lexer": "ipython3",
   "version": "3.7.3"
  }
 },
 "nbformat": 4,
 "nbformat_minor": 2
}
