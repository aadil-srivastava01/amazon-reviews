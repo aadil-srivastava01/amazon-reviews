{
 "cells": [
  {
   "cell_type": "code",
   "execution_count": 1,
   "metadata": {},
   "outputs": [],
   "source": [
    "import numpy as np\n",
    "import pandas as pd\n",
    "import string\n",
    "import matplotlib.pyplot as plt\n",
    "import seaborn as sns\n",
    "from tqdm import tqdm\n",
    "import gc\n",
    "\n",
    "%matplotlib inline\n",
    "color = sns.color_palette()"
   ]
  },
  {
   "cell_type": "code",
   "execution_count": 2,
   "metadata": {},
   "outputs": [],
   "source": [
    "df = pd.read_json('reviews_Cell_Phones_and_Accessories_5.json', lines=True)"
   ]
  },
  {
   "cell_type": "code",
   "execution_count": 3,
   "metadata": {},
   "outputs": [
    {
     "data": {
      "text/html": [
       "<div>\n",
       "<style scoped>\n",
       "    .dataframe tbody tr th:only-of-type {\n",
       "        vertical-align: middle;\n",
       "    }\n",
       "\n",
       "    .dataframe tbody tr th {\n",
       "        vertical-align: top;\n",
       "    }\n",
       "\n",
       "    .dataframe thead th {\n",
       "        text-align: right;\n",
       "    }\n",
       "</style>\n",
       "<table border=\"1\" class=\"dataframe\">\n",
       "  <thead>\n",
       "    <tr style=\"text-align: right;\">\n",
       "      <th></th>\n",
       "      <th>asin</th>\n",
       "      <th>helpful</th>\n",
       "      <th>overall</th>\n",
       "      <th>reviewText</th>\n",
       "      <th>reviewTime</th>\n",
       "      <th>reviewerID</th>\n",
       "      <th>reviewerName</th>\n",
       "      <th>summary</th>\n",
       "      <th>unixReviewTime</th>\n",
       "    </tr>\n",
       "  </thead>\n",
       "  <tbody>\n",
       "    <tr>\n",
       "      <th>0</th>\n",
       "      <td>120401325X</td>\n",
       "      <td>[0, 0]</td>\n",
       "      <td>4</td>\n",
       "      <td>They look good and stick good! I just don't li...</td>\n",
       "      <td>05 21, 2014</td>\n",
       "      <td>A30TL5EWN6DFXT</td>\n",
       "      <td>christina</td>\n",
       "      <td>Looks Good</td>\n",
       "      <td>1400630400</td>\n",
       "    </tr>\n",
       "    <tr>\n",
       "      <th>1</th>\n",
       "      <td>120401325X</td>\n",
       "      <td>[0, 0]</td>\n",
       "      <td>5</td>\n",
       "      <td>These stickers work like the review says they ...</td>\n",
       "      <td>01 14, 2014</td>\n",
       "      <td>ASY55RVNIL0UD</td>\n",
       "      <td>emily l.</td>\n",
       "      <td>Really great product.</td>\n",
       "      <td>1389657600</td>\n",
       "    </tr>\n",
       "    <tr>\n",
       "      <th>2</th>\n",
       "      <td>120401325X</td>\n",
       "      <td>[0, 0]</td>\n",
       "      <td>5</td>\n",
       "      <td>These are awesome and make my phone look so st...</td>\n",
       "      <td>06 26, 2014</td>\n",
       "      <td>A2TMXE2AFO7ONB</td>\n",
       "      <td>Erica</td>\n",
       "      <td>LOVE LOVE LOVE</td>\n",
       "      <td>1403740800</td>\n",
       "    </tr>\n",
       "    <tr>\n",
       "      <th>3</th>\n",
       "      <td>120401325X</td>\n",
       "      <td>[4, 4]</td>\n",
       "      <td>4</td>\n",
       "      <td>Item arrived in great time and was in perfect ...</td>\n",
       "      <td>10 21, 2013</td>\n",
       "      <td>AWJ0WZQYMYFQ4</td>\n",
       "      <td>JM</td>\n",
       "      <td>Cute!</td>\n",
       "      <td>1382313600</td>\n",
       "    </tr>\n",
       "    <tr>\n",
       "      <th>4</th>\n",
       "      <td>120401325X</td>\n",
       "      <td>[2, 3]</td>\n",
       "      <td>5</td>\n",
       "      <td>awesome! stays on, and looks great. can be use...</td>\n",
       "      <td>02 3, 2013</td>\n",
       "      <td>ATX7CZYFXI1KW</td>\n",
       "      <td>patrice m rogoza</td>\n",
       "      <td>leopard home button sticker for iphone 4s</td>\n",
       "      <td>1359849600</td>\n",
       "    </tr>\n",
       "  </tbody>\n",
       "</table>\n",
       "</div>"
      ],
      "text/plain": [
       "         asin helpful  overall  \\\n",
       "0  120401325X  [0, 0]        4   \n",
       "1  120401325X  [0, 0]        5   \n",
       "2  120401325X  [0, 0]        5   \n",
       "3  120401325X  [4, 4]        4   \n",
       "4  120401325X  [2, 3]        5   \n",
       "\n",
       "                                          reviewText   reviewTime  \\\n",
       "0  They look good and stick good! I just don't li...  05 21, 2014   \n",
       "1  These stickers work like the review says they ...  01 14, 2014   \n",
       "2  These are awesome and make my phone look so st...  06 26, 2014   \n",
       "3  Item arrived in great time and was in perfect ...  10 21, 2013   \n",
       "4  awesome! stays on, and looks great. can be use...   02 3, 2013   \n",
       "\n",
       "       reviewerID      reviewerName  \\\n",
       "0  A30TL5EWN6DFXT         christina   \n",
       "1   ASY55RVNIL0UD          emily l.   \n",
       "2  A2TMXE2AFO7ONB             Erica   \n",
       "3   AWJ0WZQYMYFQ4                JM   \n",
       "4   ATX7CZYFXI1KW  patrice m rogoza   \n",
       "\n",
       "                                     summary  unixReviewTime  \n",
       "0                                 Looks Good      1400630400  \n",
       "1                      Really great product.      1389657600  \n",
       "2                             LOVE LOVE LOVE      1403740800  \n",
       "3                                      Cute!      1382313600  \n",
       "4  leopard home button sticker for iphone 4s      1359849600  "
      ]
     },
     "execution_count": 3,
     "metadata": {},
     "output_type": "execute_result"
    }
   ],
   "source": [
    "df.head()"
   ]
  },
  {
   "cell_type": "markdown",
   "metadata": {},
   "source": [
    "<b> From the text analysis that we did in \"sentiment_analysis_ml\" we already know the nature of text, we will now proceed directly with text processing and will build a Deep Learning Model using that<b>"
   ]
  },
  {
   "cell_type": "code",
   "execution_count": 4,
   "metadata": {},
   "outputs": [],
   "source": [
    "df = df.drop(labels=['asin', 'helpful','reviewTime','reviewerID','reviewerName','summary', 'unixReviewTime'], axis=1)"
   ]
  },
  {
   "cell_type": "markdown",
   "metadata": {},
   "source": [
    "<b> Let's bucketize the rating into 3 categories, namely: Positive, Neutral and Negative.<br>\n",
    "    Rating 5 will be marked as Positive<br>\n",
    "    Rating 3 & 4 will be bucktized together as Neutral<br>\n",
    "    Rating 2 & 1 will be now be bucktized together as Negative"
   ]
  },
  {
   "cell_type": "code",
   "execution_count": 5,
   "metadata": {},
   "outputs": [],
   "source": [
    "def create_bucket(data):\n",
    "    \n",
    "    if data == 5:\n",
    "        return \"Positive\"\n",
    "    elif data == 4 or data == 3:\n",
    "        return \"Neutral\"\n",
    "    else:\n",
    "        return \"Negative\""
   ]
  },
  {
   "cell_type": "code",
   "execution_count": 6,
   "metadata": {},
   "outputs": [],
   "source": [
    "df['overall'] = df['overall'].apply(lambda x: create_bucket(x))"
   ]
  },
  {
   "cell_type": "markdown",
   "metadata": {},
   "source": [
    "#### Loading <a href=\"http://downloads.cs.stanford.edu/nlp/data/glove.840B.300d.zip\">GloVe</a> Word Embeddings"
   ]
  },
  {
   "cell_type": "code",
   "execution_count": 7,
   "metadata": {},
   "outputs": [],
   "source": [
    "def load_embed(file):\n",
    "    def get_coefs(word,*arr): \n",
    "        return word, np.asarray(arr, dtype='float32')\n",
    "    \n",
    "    if file == '../input/embeddings/wiki-news-300d-1M/wiki-news-300d-1M.vec':\n",
    "        embeddings_index = dict(get_coefs(*o.split(\" \")) for o in open(file) if len(o)>100)\n",
    "    else:\n",
    "        embeddings_index = dict(get_coefs(*o.split(\" \")) for o in open(file, encoding='latin'))\n",
    "        \n",
    "    return embeddings_index"
   ]
  },
  {
   "cell_type": "code",
   "execution_count": 8,
   "metadata": {},
   "outputs": [],
   "source": [
    "embedding = load_embed('glove.840B.300d.txt')"
   ]
  },
  {
   "cell_type": "markdown",
   "metadata": {},
   "source": [
    "<b> Now we should build our vocab keeping the frequency of each word in the vocab"
   ]
  },
  {
   "cell_type": "code",
   "execution_count": 9,
   "metadata": {},
   "outputs": [],
   "source": [
    "from collections import defaultdict\n",
    "\n",
    "def build_vocab(sentences):\n",
    "    fd = defaultdict(int)\n",
    "    for sentence in tqdm(sentences):\n",
    "        for word in sentence:\n",
    "            fd[word]+=1\n",
    "    return fd"
   ]
  },
  {
   "cell_type": "markdown",
   "metadata": {},
   "source": [
    "<b> Let's create a function to check how many words in our vocab are actually present in out embedding"
   ]
  },
  {
   "cell_type": "code",
   "execution_count": 10,
   "metadata": {},
   "outputs": [],
   "source": [
    "def embed_intersection(vocab,embedding):\n",
    "    temp = {}\n",
    "    oov = {}\n",
    "    i = 0\n",
    "    j = 0\n",
    "    \n",
    "    for word in vocab.keys():\n",
    "        try:\n",
    "            temp[word] = embedding[word]\n",
    "            i+=vocab[word]\n",
    "        except:\n",
    "            oov[word] = vocab[word]\n",
    "            j+=vocab[word]\n",
    "            pass\n",
    "    \n",
    "    print(f\"Found embeddings for {(len(temp)/len(vocab)*100):.3f}% of vocab\")\n",
    "    print(f\"Found embeddings for {(i/(i+j))*100:.3f}% of all text\")\n",
    "    \n",
    "    sorted_x = sorted(oov.items(), key = lambda x: x[1])[::-1]\n",
    "    return sorted_x"
   ]
  },
  {
   "cell_type": "code",
   "execution_count": 11,
   "metadata": {},
   "outputs": [
    {
     "name": "stderr",
     "output_type": "stream",
     "text": [
      "100%|██████████| 194439/194439 [00:01<00:00, 124303.32it/s]\n",
      "100%|██████████| 194439/194439 [00:02<00:00, 83387.39it/s]\n"
     ]
    },
    {
     "name": "stdout",
     "output_type": "stream",
     "text": [
      "Found embeddings for 20.674% of vocab\n",
      "Found embeddings for 92.221% of all text\n"
     ]
    }
   ],
   "source": [
    "tqdm.pandas()\n",
    "sentences = df['reviewText'].progress_apply(lambda x: x.split()).values\n",
    "vocab = build_vocab(sentences)\n",
    "oov = embed_intersection(vocab,embedding)"
   ]
  },
  {
   "cell_type": "markdown",
   "metadata": {},
   "source": [
    "<b> Embeddings are available from 20.674% of our vocab, let's check top ten out of vocab words"
   ]
  },
  {
   "cell_type": "code",
   "execution_count": 12,
   "metadata": {},
   "outputs": [
    {
     "data": {
      "text/plain": [
       "[('phone,', 13181),\n",
       " ('case,', 11001),\n",
       " (\"isn't\", 7554),\n",
       " (\"won't\", 7193),\n",
       " ('However,', 5724),\n",
       " ('charger.', 4914),\n",
       " (\"wasn't\", 4715),\n",
       " ('well,', 4665),\n",
       " (\"haven't\", 4322),\n",
       " (\"wouldn't\", 4185)]"
      ]
     },
     "execution_count": 12,
     "metadata": {},
     "output_type": "execute_result"
    }
   ],
   "source": [
    "oov[:10]"
   ]
  },
  {
   "cell_type": "markdown",
   "metadata": {},
   "source": [
    "It may happen that due the presence of puncatuation words might be the same as the one's present in embedding, also beacuse present of capital letters words might be getting out of vocab, let's fix all these issues"
   ]
  },
  {
   "cell_type": "code",
   "execution_count": 13,
   "metadata": {},
   "outputs": [],
   "source": [
    "df['lower_rev'] = df['reviewText'].apply(lambda x: x.lower())"
   ]
  },
  {
   "cell_type": "markdown",
   "metadata": {},
   "source": [
    "But making the words in lower case can lead to loss of information as there are words whose embeddings are present in upper case only.\n",
    "\n",
    "We can fix this:\n",
    "\n",
    "* word.lower() takes the embedding of word if word.lower() doesn't have an embedding"
   ]
  },
  {
   "cell_type": "code",
   "execution_count": 14,
   "metadata": {},
   "outputs": [],
   "source": [
    "def fix_case(embedding,vocab):\n",
    "    count = 0\n",
    "    for word in vocab:\n",
    "        if word in embedding and word.lower() not in embedding:\n",
    "            embedding[word.lower()] = embedding[word]\n",
    "            count +=1\n",
    "    print(f'{count} no of words inserted into embedding')"
   ]
  },
  {
   "cell_type": "code",
   "execution_count": 15,
   "metadata": {},
   "outputs": [
    {
     "name": "stdout",
     "output_type": "stream",
     "text": [
      "Found embeddings for 20.674% of vocab\n",
      "Found embeddings for 92.221% of all text\n",
      "10061 no of words inserted into embedding\n",
      "Found embeddings for 20.911% of vocab\n",
      "Found embeddings for 92.253% of all text\n"
     ]
    }
   ],
   "source": [
    "oov = embed_intersection(vocab,embedding)\n",
    "fix_case(embedding,vocab)\n",
    "oov = embed_intersection(vocab,embedding)"
   ]
  },
  {
   "cell_type": "markdown",
   "metadata": {},
   "source": [
    "We can see that the punctuations and contractions are causing the mismatch between our vocab and embeddings"
   ]
  },
  {
   "cell_type": "code",
   "execution_count": 16,
   "metadata": {},
   "outputs": [],
   "source": [
    "contraction_mapping = {\"ain't\": \"is not\", \"aren't\": \"are not\",\"can't\": \"cannot\", \n",
    "                       \"'cause\": \"because\", \"could've\": \"could have\", \"couldn't\": \"could not\", \n",
    "                       \"didn't\": \"did not\",  \"doesn't\": \"does not\", \"don't\": \"do not\",\n",
    "                       \"hadn't\": \"had not\", \"hasn't\": \"has not\", \"haven't\": \"have not\", \n",
    "                       \"he'd\": \"he would\",\"he'll\": \"he will\", \"he's\": \"he is\", \"how'd\": \"how did\", \n",
    "                       \"how'd'y\": \"how do you\", \"how'll\": \"how will\", \"how's\": \"how is\",  \n",
    "                       \"I'd\": \"I would\", \"I'd've\": \"I would have\", \"I'll\": \"I will\", \n",
    "                       \"I'll've\": \"I will have\",\"I'm\": \"I am\", \"I've\": \"I have\", \n",
    "                       \"i'd\": \"i would\", \"i'd've\": \"i would have\", \"i'll\": \"i will\",  \n",
    "                       \"i'll've\": \"i will have\",\"i'm\": \"i am\", \"i've\": \"i have\", \n",
    "                       \"isn't\": \"is not\", \"it'd\": \"it would\", \"it'd've\": \"it would have\", \n",
    "                       \"it'll\": \"it will\", \"it'll've\": \"it will have\",\"it's\": \"it is\", \n",
    "                       \"let's\": \"let us\", \"ma'am\": \"madam\", \"mayn't\": \"may not\", \n",
    "                       \"might've\": \"might have\",\"mightn't\": \"might not\",\"mightn't've\": \"might not have\", \n",
    "                       \"must've\": \"must have\", \"mustn't\": \"must not\", \"mustn't've\": \"must not have\", \n",
    "                       \"needn't\": \"need not\", \"needn't've\": \"need not have\",\"o'clock\": \"of the clock\", \n",
    "                       \"oughtn't\": \"ought not\", \"oughtn't've\": \"ought not have\", \"shan't\": \"shall not\", \n",
    "                       \"sha'n't\": \"shall not\", \"shan't've\": \"shall not have\", \"she'd\": \"she would\", \n",
    "                       \"she'd've\": \"she would have\", \"she'll\": \"she will\", \"she'll've\": \"she will have\",\n",
    "                       \"she's\": \"she is\", \"should've\": \"should have\", \"shouldn't\": \"should not\", \n",
    "                       \"shouldn't've\": \"should not have\", \"so've\": \"so have\",\"so's\": \"so as\", \n",
    "                       \"this's\": \"this is\",\"that'd\": \"that would\", \"that'd've\": \"that would have\", \n",
    "                       \"that's\": \"that is\", \"there'd\": \"there would\", \"there'd've\": \"there would have\", \n",
    "                       \"there's\": \"there is\", \"here's\": \"here is\",\"they'd\": \"they would\", \n",
    "                       \"they'd've\": \"they would have\", \"they'll\": \"they will\", \n",
    "                       \"they'll've\": \"they will have\", \"they're\": \"they are\", \"they've\": \n",
    "                       \"they have\", \"to've\": \"to have\", \"wasn't\": \"was not\", \"we'd\": \"we would\", \n",
    "                       \"we'd've\": \"we would have\", \"we'll\": \"we will\", \"we'll've\": \"we will have\",\n",
    "                       \"we're\": \"we are\", \"we've\": \"we have\", \"weren't\": \"were not\", \"what'll\": \"what will\", \n",
    "                       \"what'll've\": \"what will have\", \"what're\": \"what are\",  \"what's\": \"what is\", \n",
    "                       \"what've\": \"what have\", \"when's\": \"when is\", \"when've\": \"when have\", \n",
    "                       \"where'd\": \"where did\", \"where's\": \"where is\", \"where've\": \"where have\", \n",
    "                       \"who'll\": \"who will\", \"who'll've\": \"who will have\", \"who's\": \"who is\",\n",
    "                       \"who've\": \"who have\", \"why's\": \"why is\", \"why've\": \"why have\", \n",
    "                       \"will've\": \"will have\", \"won't\": \"will not\", \"won't've\": \"will not have\",\n",
    "                       \"would've\": \"would have\", \"wouldn't\": \"would not\", \"wouldn't've\": \"would not have\", \n",
    "                       \"y'all\": \"you all\", \"y'all'd\": \"you all would\",\"y'all'd've\": \"you all would have\",\n",
    "                       \"y'all're\": \"you all are\",\"y'all've\": \"you all have\",\"you'd\": \"you would\", \n",
    "                       \"you'd've\": \"you would have\", \"you'll\": \"you will\", \n",
    "                       \"you'll've\": \"you will have\", \"you're\": \"you are\", \"you've\": \"you have\" }"
   ]
  },
  {
   "cell_type": "code",
   "execution_count": 17,
   "metadata": {},
   "outputs": [],
   "source": [
    "def cont_map(embedding):\n",
    "    known = []\n",
    "    for cont in contraction_mapping:\n",
    "        if cont in embedding:\n",
    "            known.append(cont)\n",
    "    return known"
   ]
  },
  {
   "cell_type": "code",
   "execution_count": 18,
   "metadata": {},
   "outputs": [
    {
     "data": {
      "text/plain": [
       "[\"can't\",\n",
       " \"'cause\",\n",
       " \"didn't\",\n",
       " \"doesn't\",\n",
       " \"don't\",\n",
       " \"I'd\",\n",
       " \"I'll\",\n",
       " \"I'm\",\n",
       " \"I've\",\n",
       " \"i'd\",\n",
       " \"i'll\",\n",
       " \"i'm\",\n",
       " \"i've\",\n",
       " \"it's\",\n",
       " \"ma'am\",\n",
       " \"o'clock\",\n",
       " \"that's\",\n",
       " \"you'll\",\n",
       " \"you're\"]"
      ]
     },
     "execution_count": 18,
     "metadata": {},
     "output_type": "execute_result"
    }
   ],
   "source": [
    "cont_map(embedding)"
   ]
  },
  {
   "cell_type": "markdown",
   "metadata": {},
   "source": [
    "<b> It can be seen that not all contractions are present in the embeddings, we will now be replacing them"
   ]
  },
  {
   "cell_type": "code",
   "execution_count": 19,
   "metadata": {},
   "outputs": [],
   "source": [
    "def fix_cont(sentence,mapping):\n",
    "    sentence = str(sentence)\n",
    "    specials = [\"’\", \"‘\", \"´\", \"`\"]\n",
    "    for each in specials:\n",
    "        sentence = sentence.replace(each,\"'\")\n",
    "    sentence = \" \".join([mapping[word] if word in mapping else word for word in sentence.split(\" \")])\n",
    "    return sentence"
   ]
  },
  {
   "cell_type": "code",
   "execution_count": 20,
   "metadata": {},
   "outputs": [],
   "source": [
    "df['fixed_rev'] = df['lower_rev'].apply(lambda x: fix_cont(x,contraction_mapping))"
   ]
  },
  {
   "cell_type": "code",
   "execution_count": 21,
   "metadata": {},
   "outputs": [
    {
     "name": "stderr",
     "output_type": "stream",
     "text": [
      "100%|██████████| 194439/194439 [00:02<00:00, 91979.84it/s]\n",
      "100%|██████████| 194439/194439 [00:02<00:00, 81440.50it/s]\n"
     ]
    },
    {
     "name": "stdout",
     "output_type": "stream",
     "text": [
      "Found embeddings for 18.541% of vocab\n",
      "Found embeddings for 92.753% of all text\n"
     ]
    }
   ],
   "source": [
    "sentences = df['fixed_rev'].progress_apply(lambda x: x.split()).values\n",
    "vocab = build_vocab(sentences)\n",
    "oov = embed_intersection(vocab,embedding)"
   ]
  },
  {
   "cell_type": "code",
   "execution_count": 22,
   "metadata": {},
   "outputs": [
    {
     "data": {
      "text/plain": [
       "[('phone,', 13345),\n",
       " ('case,', 11204),\n",
       " ('however,', 8158),\n",
       " ('well,', 5626),\n",
       " ('charger.', 5035),\n",
       " ('great,', 4202),\n",
       " ('it!', 3681),\n",
       " ('me,', 3677),\n",
       " ('on,', 3669),\n",
       " ('time,', 3645)]"
      ]
     },
     "execution_count": 22,
     "metadata": {},
     "output_type": "execute_result"
    }
   ],
   "source": [
    "oov[:10]"
   ]
  },
  {
   "cell_type": "markdown",
   "metadata": {},
   "source": [
    "####  Now it's time to deal with puncuations and special characters"
   ]
  },
  {
   "cell_type": "code",
   "execution_count": 23,
   "metadata": {},
   "outputs": [],
   "source": [
    "punct = \"/-'?!.,#$%\\'()*+-/:;<=>@[\\\\]^_`{|}~\" + '\"\"“”’' + '∞θ÷α•à−β∅³π‘₹´°£€\\×™√²—–&'"
   ]
  },
  {
   "cell_type": "code",
   "execution_count": 24,
   "metadata": {},
   "outputs": [],
   "source": [
    "def fix_punt(sentence,punct):\n",
    "    \n",
    "    for p in punct:\n",
    "        sentence = sentence.replace(p, f' {p} ')\n",
    "    return sentence"
   ]
  },
  {
   "cell_type": "code",
   "execution_count": 25,
   "metadata": {},
   "outputs": [],
   "source": [
    "df['fixed_rev'] = df['fixed_rev'].apply(lambda x: fix_punt(x,punct))"
   ]
  },
  {
   "cell_type": "code",
   "execution_count": 26,
   "metadata": {},
   "outputs": [
    {
     "name": "stderr",
     "output_type": "stream",
     "text": [
      "100%|██████████| 194439/194439 [00:01<00:00, 110429.73it/s]\n",
      "100%|██████████| 194439/194439 [00:02<00:00, 88667.75it/s]\n"
     ]
    },
    {
     "name": "stdout",
     "output_type": "stream",
     "text": [
      "Found embeddings for 62.501% of vocab\n",
      "Found embeddings for 99.720% of all text\n"
     ]
    }
   ],
   "source": [
    "sentences = df['fixed_rev'].progress_apply(lambda x: x.split()).values\n",
    "vocab = build_vocab(sentences)\n",
    "oov = embed_intersection(vocab,embedding)"
   ]
  },
  {
   "cell_type": "markdown",
   "metadata": {},
   "source": [
    "#### We can see a huge improvement now embeddings are present for 99.72% of all the text in the dataset"
   ]
  },
  {
   "cell_type": "code",
   "execution_count": 27,
   "metadata": {},
   "outputs": [
    {
     "data": {
      "text/plain": [
       "[('bolse', 452),\n",
       " ('ismooth', 410),\n",
       " ('maxboost', 375),\n",
       " ('newtrent', 273),\n",
       " ('itorch', 268),\n",
       " ('000mah', 263),\n",
       " ('caseology', 260),\n",
       " ('zerolemon', 256),\n",
       " ('icarrier', 225),\n",
       " ('otterboxes', 222),\n",
       " ('easyacc', 209),\n",
       " ('nt90c', 191),\n",
       " ('sharkk', 190),\n",
       " ('zeetron', 180),\n",
       " ('frieq', 173),\n",
       " ('jackery', 162),\n",
       " ('incredicharge', 136),\n",
       " ('gopower', 135),\n",
       " ('hx550', 133),\n",
       " ('eargels', 131)]"
      ]
     },
     "execution_count": 27,
     "metadata": {},
     "output_type": "execute_result"
    }
   ],
   "source": [
    "oov[:20]"
   ]
  },
  {
   "cell_type": "markdown",
   "metadata": {},
   "source": [
    "We can see that now most of the out of vocab words are due to use of some slang or due to some spelling mistake.<br>\n",
    "__Note__:\n",
    "* We can further increase the intersection between our vocab and Glove by fixing speeling mistake, but we will left this step for now"
   ]
  },
  {
   "cell_type": "code",
   "execution_count": 28,
   "metadata": {},
   "outputs": [],
   "source": [
    "df = df.drop(labels=['reviewText', 'lower_rev'], axis=1)"
   ]
  },
  {
   "cell_type": "markdown",
   "metadata": {},
   "source": [
    "Now the embeddings covers almost all of our text data, let move ahead and start building model"
   ]
  },
  {
   "cell_type": "code",
   "execution_count": 29,
   "metadata": {},
   "outputs": [],
   "source": [
    "def avg_len(data):\n",
    "    len_str = data['fixed_rev'].apply(lambda x : len(x.split()))\n",
    "    return np.mean(len_str)"
   ]
  },
  {
   "cell_type": "code",
   "execution_count": 30,
   "metadata": {},
   "outputs": [
    {
     "data": {
      "text/html": [
       "<div>\n",
       "<style scoped>\n",
       "    .dataframe tbody tr th:only-of-type {\n",
       "        vertical-align: middle;\n",
       "    }\n",
       "\n",
       "    .dataframe tbody tr th {\n",
       "        vertical-align: top;\n",
       "    }\n",
       "\n",
       "    .dataframe thead th {\n",
       "        text-align: right;\n",
       "    }\n",
       "</style>\n",
       "<table border=\"1\" class=\"dataframe\">\n",
       "  <thead>\n",
       "    <tr style=\"text-align: right;\">\n",
       "      <th></th>\n",
       "      <th>overall</th>\n",
       "      <th>fixed_rev</th>\n",
       "    </tr>\n",
       "  </thead>\n",
       "  <tbody>\n",
       "    <tr>\n",
       "      <th>0</th>\n",
       "      <td>Neutral</td>\n",
       "      <td>they look good and stick good !  i just do not...</td>\n",
       "    </tr>\n",
       "    <tr>\n",
       "      <th>1</th>\n",
       "      <td>Positive</td>\n",
       "      <td>these stickers work like the review says they ...</td>\n",
       "    </tr>\n",
       "    <tr>\n",
       "      <th>2</th>\n",
       "      <td>Positive</td>\n",
       "      <td>these are awesome and make my phone look so st...</td>\n",
       "    </tr>\n",
       "    <tr>\n",
       "      <th>3</th>\n",
       "      <td>Neutral</td>\n",
       "      <td>item arrived in great time and was in perfect ...</td>\n",
       "    </tr>\n",
       "    <tr>\n",
       "      <th>4</th>\n",
       "      <td>Positive</td>\n",
       "      <td>awesome !  stays on ,  and looks great .  can ...</td>\n",
       "    </tr>\n",
       "  </tbody>\n",
       "</table>\n",
       "</div>"
      ],
      "text/plain": [
       "    overall                                          fixed_rev\n",
       "0   Neutral  they look good and stick good !  i just do not...\n",
       "1  Positive  these stickers work like the review says they ...\n",
       "2  Positive  these are awesome and make my phone look so st...\n",
       "3   Neutral  item arrived in great time and was in perfect ...\n",
       "4  Positive  awesome !  stays on ,  and looks great .  can ..."
      ]
     },
     "execution_count": 30,
     "metadata": {},
     "output_type": "execute_result"
    }
   ],
   "source": [
    "df.head()"
   ]
  },
  {
   "cell_type": "markdown",
   "metadata": {},
   "source": [
    "Average Lenth of reviews given"
   ]
  },
  {
   "cell_type": "code",
   "execution_count": 31,
   "metadata": {},
   "outputs": [
    {
     "data": {
      "text/plain": [
       "107.9483385534795"
      ]
     },
     "execution_count": 31,
     "metadata": {},
     "output_type": "execute_result"
    }
   ],
   "source": [
    "avg_len(df)"
   ]
  },
  {
   "cell_type": "code",
   "execution_count": 32,
   "metadata": {},
   "outputs": [],
   "source": [
    "vocab_size = len(vocab) + 1\n",
    "max_len = 108"
   ]
  },
  {
   "cell_type": "code",
   "execution_count": 33,
   "metadata": {},
   "outputs": [
    {
     "name": "stderr",
     "output_type": "stream",
     "text": [
      "Using TensorFlow backend.\n"
     ]
    }
   ],
   "source": [
    "from keras.preprocessing.text import Tokenizer\n",
    "from keras.preprocessing.sequence import pad_sequences"
   ]
  },
  {
   "cell_type": "code",
   "execution_count": 34,
   "metadata": {},
   "outputs": [],
   "source": [
    "def process_data(data):\n",
    "    \n",
    "    t = Tokenizer(filters='')\n",
    "    t.fit_on_texts(data)\n",
    "    data = t.texts_to_sequences(data)\n",
    "    data = pad_sequences(data,maxlen = max_len)\n",
    "    return data, t.word_index,t"
   ]
  },
  {
   "cell_type": "code",
   "execution_count": 35,
   "metadata": {},
   "outputs": [],
   "source": [
    "X, word_index, tokenizer = process_data(df['fixed_rev'])"
   ]
  },
  {
   "cell_type": "code",
   "execution_count": 36,
   "metadata": {},
   "outputs": [],
   "source": [
    "from sklearn.preprocessing import LabelEncoder\n",
    "\n",
    "le= LabelEncoder()\n",
    "df['overall'] = le.fit_transform(df['overall'])"
   ]
  },
  {
   "cell_type": "code",
   "execution_count": 37,
   "metadata": {},
   "outputs": [],
   "source": [
    "from sklearn.model_selection import train_test_split\n",
    "\n",
    "y = df['overall'].values"
   ]
  },
  {
   "cell_type": "code",
   "execution_count": 38,
   "metadata": {},
   "outputs": [],
   "source": [
    "from keras.utils import to_categorical\n",
    "y_binary = to_categorical(y)"
   ]
  },
  {
   "cell_type": "markdown",
   "metadata": {},
   "source": [
    "### Ideally we should divide the dataset in three subsets Test, Train & Validation so as to build more robust model but for the sake of exam will be dividing it into train and test set."
   ]
  },
  {
   "cell_type": "code",
   "execution_count": 39,
   "metadata": {},
   "outputs": [],
   "source": [
    "X_train, X_test, y_train, y_test = train_test_split(X,y_binary,test_size=0.1,random_state=17)"
   ]
  },
  {
   "cell_type": "code",
   "execution_count": 40,
   "metadata": {},
   "outputs": [
    {
     "data": {
      "text/plain": [
       "(174995, 108)"
      ]
     },
     "execution_count": 40,
     "metadata": {},
     "output_type": "execute_result"
    }
   ],
   "source": [
    "X_train.shape"
   ]
  },
  {
   "cell_type": "markdown",
   "metadata": {},
   "source": [
    "#### Let's make our embedding matrix"
   ]
  },
  {
   "cell_type": "code",
   "execution_count": 41,
   "metadata": {},
   "outputs": [],
   "source": [
    "def make_embed_mat(embedding,word_index,vocab_size):\n",
    "    embds = np.stack(embedding.values())\n",
    "    emb_mean,emb_std = embds.mean(), embds.std()\n",
    "    embed_size = embds.shape[1]\n",
    "    word_index = word_index\n",
    "    embedding_matrix = np.random.normal(emb_mean,emb_std,(vocab_size,embed_size))\n",
    "    \n",
    "    for word,i in word_index.items():\n",
    "        if i>=vocab_size:\n",
    "            continue\n",
    "        embedding_vec = embedding.get(word)\n",
    "        if embedding_vec is not None:\n",
    "            embedding_matrix[i] = embedding_vec\n",
    "    return embedding_matrix"
   ]
  },
  {
   "cell_type": "code",
   "execution_count": 42,
   "metadata": {},
   "outputs": [
    {
     "name": "stderr",
     "output_type": "stream",
     "text": [
      "/home/aadil/anaconda3/lib/python3.7/site-packages/ipykernel_launcher.py:2: FutureWarning: arrays to stack must be passed as a \"sequence\" type such as list or tuple. Support for non-sequence iterables such as generators is deprecated as of NumPy 1.16 and will raise an error in the future.\n",
      "  \n"
     ]
    },
    {
     "data": {
      "text/plain": [
       "83"
      ]
     },
     "execution_count": 42,
     "metadata": {},
     "output_type": "execute_result"
    }
   ],
   "source": [
    "embed_matrix = make_embed_mat(embedding,word_index,vocab_size)\n",
    "del word_index, vocab, sentences\n",
    "gc.collect()"
   ]
  },
  {
   "cell_type": "code",
   "execution_count": 43,
   "metadata": {},
   "outputs": [
    {
     "data": {
      "text/plain": [
       "(86536, 300)"
      ]
     },
     "execution_count": 43,
     "metadata": {},
     "output_type": "execute_result"
    }
   ],
   "source": [
    "embed_matrix.shape"
   ]
  },
  {
   "cell_type": "code",
   "execution_count": 44,
   "metadata": {},
   "outputs": [],
   "source": [
    "from keras.layers import Dense, Embedding, CuDNNGRU, Bidirectional, GlobalAveragePooling1D\n",
    "from keras.layers import GlobalMaxPooling1D,concatenate,Input, Dropout\n",
    "from keras.optimizers import Adam\n",
    "from keras.models import Model"
   ]
  },
  {
   "cell_type": "markdown",
   "metadata": {},
   "source": [
    "<b> Building a GRU based deep learning model"
   ]
  },
  {
   "cell_type": "code",
   "execution_count": 45,
   "metadata": {},
   "outputs": [],
   "source": [
    "def make_model(embedding_matrix, embed_size=300, loss='categorical_crossentropy'):\n",
    "    \n",
    "    inp = Input(shape=(max_len,))\n",
    "    x = Embedding(input_dim=vocab_size,output_dim=embed_size,weights=[embedding_matrix],trainable=False)(inp)\n",
    "    x = Bidirectional(CuDNNGRU(128,return_sequences=True))(x)\n",
    "    x = Bidirectional(CuDNNGRU(64, return_sequences=True))(x)\n",
    "    avg_pl = GlobalAveragePooling1D()(x)\n",
    "    max_pl = GlobalMaxPooling1D()(x)\n",
    "    concat = concatenate([avg_pl,max_pl])\n",
    "    dense  = Dense(64, activation=\"relu\")(concat)\n",
    "    dense  = Dropout(rate = 0.7)(dense)\n",
    "    output = Dense(3, activation=\"softmax\")(dense)\n",
    "    \n",
    "    model = Model(inputs=inp, output=output)\n",
    "    model.compile(loss=loss,optimizer=Adam(lr=0.0001), metrics=['accuracy'])\n",
    "    return model"
   ]
  },
  {
   "cell_type": "code",
   "execution_count": 46,
   "metadata": {},
   "outputs": [
    {
     "name": "stderr",
     "output_type": "stream",
     "text": [
      "WARNING: Logging before flag parsing goes to stderr.\n",
      "W0906 17:14:36.279181 139997342480192 deprecation_wrapper.py:119] From /home/aadil/anaconda3/lib/python3.7/site-packages/keras/backend/tensorflow_backend.py:74: The name tf.get_default_graph is deprecated. Please use tf.compat.v1.get_default_graph instead.\n",
      "\n",
      "W0906 17:14:36.305133 139997342480192 deprecation_wrapper.py:119] From /home/aadil/anaconda3/lib/python3.7/site-packages/keras/backend/tensorflow_backend.py:517: The name tf.placeholder is deprecated. Please use tf.compat.v1.placeholder instead.\n",
      "\n",
      "W0906 17:14:36.308362 139997342480192 deprecation_wrapper.py:119] From /home/aadil/anaconda3/lib/python3.7/site-packages/keras/backend/tensorflow_backend.py:4138: The name tf.random_uniform is deprecated. Please use tf.random.uniform instead.\n",
      "\n",
      "W0906 17:14:36.348826 139997342480192 deprecation_wrapper.py:119] From /home/aadil/anaconda3/lib/python3.7/site-packages/keras/backend/tensorflow_backend.py:174: The name tf.get_default_session is deprecated. Please use tf.compat.v1.get_default_session instead.\n",
      "\n",
      "W0906 17:14:36.349436 139997342480192 deprecation_wrapper.py:119] From /home/aadil/anaconda3/lib/python3.7/site-packages/keras/backend/tensorflow_backend.py:181: The name tf.ConfigProto is deprecated. Please use tf.compat.v1.ConfigProto instead.\n",
      "\n",
      "/home/aadil/anaconda3/lib/python3.7/site-packages/dask/config.py:168: YAMLLoadWarning: calling yaml.load() without Loader=... is deprecated, as the default Loader is unsafe. Please read https://msg.pyyaml.org/load for full details.\n",
      "  data = yaml.load(f.read()) or {}\n",
      "W0906 17:14:41.950510 139997342480192 deprecation.py:506] From /home/aadil/anaconda3/lib/python3.7/site-packages/keras/backend/tensorflow_backend.py:3445: calling dropout (from tensorflow.python.ops.nn_ops) with keep_prob is deprecated and will be removed in a future version.\n",
      "Instructions for updating:\n",
      "Please use `rate` instead of `keep_prob`. Rate should be set to `rate = 1 - keep_prob`.\n",
      "W0906 17:14:41.951416 139997342480192 nn_ops.py:4224] Large dropout rate: 0.7 (>0.5). In TensorFlow 2.x, dropout() uses dropout rate instead of keep_prob. Please ensure that this is intended.\n",
      "/home/aadil/anaconda3/lib/python3.7/site-packages/ipykernel_launcher.py:14: UserWarning: Update your `Model` call to the Keras 2 API: `Model(inputs=Tensor(\"in..., outputs=Tensor(\"de...)`\n",
      "  \n",
      "W0906 17:14:41.987671 139997342480192 deprecation_wrapper.py:119] From /home/aadil/anaconda3/lib/python3.7/site-packages/keras/optimizers.py:790: The name tf.train.Optimizer is deprecated. Please use tf.compat.v1.train.Optimizer instead.\n",
      "\n"
     ]
    }
   ],
   "source": [
    "model = make_model(embed_matrix)"
   ]
  },
  {
   "cell_type": "code",
   "execution_count": 47,
   "metadata": {},
   "outputs": [
    {
     "name": "stdout",
     "output_type": "stream",
     "text": [
      "__________________________________________________________________________________________________\n",
      "Layer (type)                    Output Shape         Param #     Connected to                     \n",
      "==================================================================================================\n",
      "input_1 (InputLayer)            (None, 108)          0                                            \n",
      "__________________________________________________________________________________________________\n",
      "embedding_1 (Embedding)         (None, 108, 300)     25960800    input_1[0][0]                    \n",
      "__________________________________________________________________________________________________\n",
      "bidirectional_1 (Bidirectional) (None, 108, 256)     330240      embedding_1[0][0]                \n",
      "__________________________________________________________________________________________________\n",
      "bidirectional_2 (Bidirectional) (None, 108, 128)     123648      bidirectional_1[0][0]            \n",
      "__________________________________________________________________________________________________\n",
      "global_average_pooling1d_1 (Glo (None, 128)          0           bidirectional_2[0][0]            \n",
      "__________________________________________________________________________________________________\n",
      "global_max_pooling1d_1 (GlobalM (None, 128)          0           bidirectional_2[0][0]            \n",
      "__________________________________________________________________________________________________\n",
      "concatenate_1 (Concatenate)     (None, 256)          0           global_average_pooling1d_1[0][0] \n",
      "                                                                 global_max_pooling1d_1[0][0]     \n",
      "__________________________________________________________________________________________________\n",
      "dense_1 (Dense)                 (None, 64)           16448       concatenate_1[0][0]              \n",
      "__________________________________________________________________________________________________\n",
      "dropout_1 (Dropout)             (None, 64)           0           dense_1[0][0]                    \n",
      "__________________________________________________________________________________________________\n",
      "dense_2 (Dense)                 (None, 3)            195         dropout_1[0][0]                  \n",
      "==================================================================================================\n",
      "Total params: 26,431,331\n",
      "Trainable params: 470,531\n",
      "Non-trainable params: 25,960,800\n",
      "__________________________________________________________________________________________________\n"
     ]
    }
   ],
   "source": [
    "model.summary()"
   ]
  },
  {
   "cell_type": "code",
   "execution_count": 48,
   "metadata": {},
   "outputs": [],
   "source": [
    "from keras.callbacks import ModelCheckpoint, ReduceLROnPlateau"
   ]
  },
  {
   "cell_type": "code",
   "execution_count": 49,
   "metadata": {},
   "outputs": [],
   "source": [
    "checkpoints = ModelCheckpoint('model.h5',monitor='val_acc',mode='max',save_best_only='True',verbose=True)\n",
    "reduce_lr = ReduceLROnPlateau(monitor='val_acc', factor=0.1, patience=2, verbose=1, min_lr=0.000001)"
   ]
  },
  {
   "cell_type": "code",
   "execution_count": 50,
   "metadata": {},
   "outputs": [],
   "source": [
    "epochs = 15\n",
    "batch_size = 128"
   ]
  },
  {
   "cell_type": "markdown",
   "metadata": {},
   "source": [
    "#### Training the model on Nvidia GTX 1050Ti GPU, locally "
   ]
  },
  {
   "cell_type": "code",
   "execution_count": 51,
   "metadata": {
    "scrolled": true
   },
   "outputs": [
    {
     "name": "stderr",
     "output_type": "stream",
     "text": [
      "W0906 17:14:42.255306 139997342480192 deprecation.py:323] From /home/aadil/anaconda3/lib/python3.7/site-packages/tensorflow/python/ops/math_grad.py:1250: add_dispatch_support.<locals>.wrapper (from tensorflow.python.ops.array_ops) is deprecated and will be removed in a future version.\n",
      "Instructions for updating:\n",
      "Use tf.where in 2.0, which has the same broadcast rule as np.where\n"
     ]
    },
    {
     "name": "stdout",
     "output_type": "stream",
     "text": [
      "Train on 174995 samples, validate on 19444 samples\n",
      "Epoch 1/15\n",
      "174995/174995 [==============================] - 83s 476us/step - loss: 0.8344 - acc: 0.6106 - val_loss: 0.7276 - val_acc: 0.6635\n",
      "\n",
      "Epoch 00001: val_acc improved from -inf to 0.66350, saving model to model.h5\n",
      "Epoch 2/15\n",
      "174995/174995 [==============================] - 81s 464us/step - loss: 0.7228 - acc: 0.6757 - val_loss: 0.6732 - val_acc: 0.6980\n",
      "\n",
      "Epoch 00002: val_acc improved from 0.66350 to 0.69800, saving model to model.h5\n",
      "Epoch 3/15\n",
      "174995/174995 [==============================] - 81s 462us/step - loss: 0.6808 - acc: 0.7014 - val_loss: 0.6334 - val_acc: 0.7224\n",
      "\n",
      "Epoch 00003: val_acc improved from 0.69800 to 0.72238, saving model to model.h5\n",
      "Epoch 4/15\n",
      "174995/174995 [==============================] - 81s 464us/step - loss: 0.6532 - acc: 0.7175 - val_loss: 0.6111 - val_acc: 0.7353\n",
      "\n",
      "Epoch 00004: val_acc improved from 0.72238 to 0.73534, saving model to model.h5\n",
      "Epoch 5/15\n",
      "174995/174995 [==============================] - 83s 475us/step - loss: 0.6349 - acc: 0.7265 - val_loss: 0.6004 - val_acc: 0.7377\n",
      "\n",
      "Epoch 00005: val_acc improved from 0.73534 to 0.73766, saving model to model.h5\n",
      "Epoch 6/15\n",
      "174995/174995 [==============================] - 81s 465us/step - loss: 0.6212 - acc: 0.7336 - val_loss: 0.5869 - val_acc: 0.7438\n",
      "\n",
      "Epoch 00006: val_acc improved from 0.73766 to 0.74383, saving model to model.h5\n",
      "Epoch 7/15\n",
      "174995/174995 [==============================] - 81s 462us/step - loss: 0.6079 - acc: 0.7395 - val_loss: 0.5781 - val_acc: 0.7469\n",
      "\n",
      "Epoch 00007: val_acc improved from 0.74383 to 0.74686, saving model to model.h5\n",
      "Epoch 8/15\n",
      "174995/174995 [==============================] - 82s 470us/step - loss: 0.5983 - acc: 0.7454 - val_loss: 0.5843 - val_acc: 0.7451\n",
      "\n",
      "Epoch 00008: val_acc did not improve from 0.74686\n",
      "Epoch 9/15\n",
      "174995/174995 [==============================] - 80s 459us/step - loss: 0.5889 - acc: 0.7500 - val_loss: 0.5760 - val_acc: 0.7491\n",
      "\n",
      "Epoch 00009: val_acc improved from 0.74686 to 0.74913, saving model to model.h5\n",
      "Epoch 10/15\n",
      "174995/174995 [==============================] - 79s 449us/step - loss: 0.5801 - acc: 0.7535 - val_loss: 0.5865 - val_acc: 0.7468\n",
      "\n",
      "Epoch 00010: val_acc did not improve from 0.74913\n",
      "Epoch 11/15\n",
      "174995/174995 [==============================] - 78s 447us/step - loss: 0.5716 - acc: 0.7579 - val_loss: 0.5678 - val_acc: 0.7525\n",
      "\n",
      "Epoch 00011: val_acc improved from 0.74913 to 0.75247, saving model to model.h5\n",
      "Epoch 12/15\n",
      "174995/174995 [==============================] - 78s 447us/step - loss: 0.5644 - acc: 0.7622 - val_loss: 0.5560 - val_acc: 0.7578\n",
      "\n",
      "Epoch 00012: val_acc improved from 0.75247 to 0.75782, saving model to model.h5\n",
      "Epoch 13/15\n",
      "174995/174995 [==============================] - 78s 444us/step - loss: 0.5585 - acc: 0.7636 - val_loss: 0.5544 - val_acc: 0.7578\n",
      "\n",
      "Epoch 00013: val_acc did not improve from 0.75782\n",
      "Epoch 14/15\n",
      "174995/174995 [==============================] - 78s 444us/step - loss: 0.5511 - acc: 0.7671 - val_loss: 0.5523 - val_acc: 0.7612\n",
      "\n",
      "Epoch 00014: val_acc improved from 0.75782 to 0.76121, saving model to model.h5\n",
      "Epoch 15/15\n",
      "174995/174995 [==============================] - 78s 444us/step - loss: 0.5449 - acc: 0.7707 - val_loss: 0.5653 - val_acc: 0.7541\n",
      "\n",
      "Epoch 00015: val_acc did not improve from 0.76121\n"
     ]
    }
   ],
   "source": [
    "history = model.fit(X_train, y_train, batch_size=batch_size, epochs=epochs, \n",
    "                    validation_data=[X_test, y_test], callbacks=[checkpoints, reduce_lr])"
   ]
  },
  {
   "cell_type": "markdown",
   "metadata": {},
   "source": [
    "__Note__:\n",
    "__Scope of improvement__:\n",
    "\n",
    "* Architecture can be changed instead of using GRU, LSTM can be used it will give better result but will be more computationally expensive to train\n",
    "\n",
    "* More layers can be added with the combination of some dense layers, it could further boost the performance(Beware of over-fitting)\n",
    "* Use of <a href=\"https://papers.nips.cc/paper/7181-attention-is-all-you-need.pdf\"> Attention Model</a> gives promising results in these kind of usecases.\n",
    "* BERT and XLnet can be expiremented with which may produce more robust models and can give more promising results."
   ]
  },
  {
   "cell_type": "code",
   "execution_count": 52,
   "metadata": {},
   "outputs": [
    {
     "data": {
      "image/png": "[encoded data removed]",
      "text/plain": [
       "<Figure size 864x576 with 1 Axes>"
      ]
     },
     "metadata": {
      "needs_background": "light"
     },
     "output_type": "display_data"
    }
   ],
   "source": [
    "plt.figure(figsize=(12,8))\n",
    "plt.plot(history.history['acc'], label='Train Accuracy')\n",
    "plt.plot(history.history['val_acc'], label='Test Accuracy')\n",
    "plt.legend(('Train Acc', 'Val Acc'))\n",
    "plt.show()"
   ]
  },
  {
   "cell_type": "markdown",
   "metadata": {},
   "source": [
    "Loading the best model"
   ]
  },
  {
   "cell_type": "code",
   "execution_count": 53,
   "metadata": {},
   "outputs": [
    {
     "name": "stderr",
     "output_type": "stream",
     "text": [
      "W0906 17:39:32.284107 139997342480192 nn_ops.py:4224] Large dropout rate: 0.7 (>0.5). In TensorFlow 2.x, dropout() uses dropout rate instead of keep_prob. Please ensure that this is intended.\n"
     ]
    }
   ],
   "source": [
    "from keras.models import load_model\n",
    "\n",
    "model = load_model('model.h5')"
   ]
  },
  {
   "cell_type": "code",
   "execution_count": 54,
   "metadata": {},
   "outputs": [
    {
     "name": "stdout",
     "output_type": "stream",
     "text": [
      "__________________________________________________________________________________________________\n",
      "Layer (type)                    Output Shape         Param #     Connected to                     \n",
      "==================================================================================================\n",
      "input_1 (InputLayer)            (None, 108)          0                                            \n",
      "__________________________________________________________________________________________________\n",
      "embedding_1 (Embedding)         (None, 108, 300)     25960800    input_1[0][0]                    \n",
      "__________________________________________________________________________________________________\n",
      "bidirectional_1 (Bidirectional) (None, 108, 256)     330240      embedding_1[0][0]                \n",
      "__________________________________________________________________________________________________\n",
      "bidirectional_2 (Bidirectional) (None, 108, 128)     123648      bidirectional_1[0][0]            \n",
      "__________________________________________________________________________________________________\n",
      "global_average_pooling1d_1 (Glo (None, 128)          0           bidirectional_2[0][0]            \n",
      "__________________________________________________________________________________________________\n",
      "global_max_pooling1d_1 (GlobalM (None, 128)          0           bidirectional_2[0][0]            \n",
      "__________________________________________________________________________________________________\n",
      "concatenate_1 (Concatenate)     (None, 256)          0           global_average_pooling1d_1[0][0] \n",
      "                                                                 global_max_pooling1d_1[0][0]     \n",
      "__________________________________________________________________________________________________\n",
      "dense_1 (Dense)                 (None, 64)           16448       concatenate_1[0][0]              \n",
      "__________________________________________________________________________________________________\n",
      "dropout_1 (Dropout)             (None, 64)           0           dense_1[0][0]                    \n",
      "__________________________________________________________________________________________________\n",
      "dense_2 (Dense)                 (None, 3)            195         dropout_1[0][0]                  \n",
      "==================================================================================================\n",
      "Total params: 26,431,331\n",
      "Trainable params: 470,531\n",
      "Non-trainable params: 25,960,800\n",
      "__________________________________________________________________________________________________\n"
     ]
    }
   ],
   "source": []
  },
  {
   "cell_type": "code",
   "execution_count": 55,
   "metadata": {},
   "outputs": [
    {
     "name": "stdout",
     "output_type": "stream",
     "text": [
      "19444/19444 [==============================] - 3s 152us/step\n"
     ]
    }
   ],
   "source": [
    "pred = model.predict(X_test,batch_size=512, verbose=1)"
   ]
  },
  {
   "cell_type": "code",
   "execution_count": 57,
   "metadata": {},
   "outputs": [
    {
     "data": {
      "text/plain": [
       "array([[1.9775175e-01, 3.9597657e-01, 4.0627176e-01],\n",
       "       [3.4335138e-05, 3.1976182e-02, 9.6798944e-01],\n",
       "       [1.1641518e-04, 3.6585547e-02, 9.6329802e-01],\n",
       "       [7.7630496e-03, 2.6969406e-01, 7.2254288e-01],\n",
       "       [6.2355548e-02, 5.8340317e-01, 3.5424134e-01],\n",
       "       [1.3594091e-04, 9.0558529e-02, 9.0930551e-01],\n",
       "       [4.0617511e-03, 1.9149785e-01, 8.0444038e-01],\n",
       "       [7.6413774e-03, 4.9092937e-01, 5.0142920e-01],\n",
       "       [3.3241759e-06, 1.2059247e-02, 9.8793739e-01],\n",
       "       [9.2018499e-06, 4.3849792e-02, 9.5614105e-01]], dtype=float32)"
      ]
     },
     "execution_count": 57,
     "metadata": {},
     "output_type": "execute_result"
    }
   ],
   "source": [
    "pred[:10]"
   ]
  },
  {
   "cell_type": "markdown",
   "metadata": {},
   "source": [
    "Setting the threshold for predecting the class of a review"
   ]
  },
  {
   "cell_type": "code",
   "execution_count": 61,
   "metadata": {},
   "outputs": [],
   "source": [
    "from sklearn.metrics import accuracy_score\n",
    "\n",
    "def tweak_threshold(pred, truth):\n",
    "    thresholds = []\n",
    "    scores = []\n",
    "    for thresh in np.arange(0.1, 0.75, 0.01):\n",
    "        thresh = np.round(thresh, 2)\n",
    "        thresholds.append(thresh)\n",
    "        score = accuracy_score(truth, (pred>thresh).astype(int))\n",
    "        scores.append(score)\n",
    "    return np.max(scores), thresholds[np.argmax(scores)]"
   ]
  },
  {
   "cell_type": "code",
   "execution_count": 62,
   "metadata": {},
   "outputs": [
    {
     "name": "stdout",
     "output_type": "stream",
     "text": [
      "Scored 0.7413 for threshold 0.49 with treated texts on validation data\n"
     ]
    }
   ],
   "source": [
    "score_val, threshold_val = tweak_threshold(pred, y_test)\n",
    "\n",
    "print(f\"Scored {round(score_val, 4)} for threshold {threshold_val} with treated texts on validation data\")"
   ]
  },
  {
   "cell_type": "markdown",
   "metadata": {},
   "source": [
    "Generating predictions for all the reviews"
   ]
  },
  {
   "cell_type": "code",
   "execution_count": 69,
   "metadata": {},
   "outputs": [],
   "source": [
    "pred = tokenizer.texts_to_sequences(df['fixed_rev'])\n",
    "pred = pad_sequences(pred,maxlen = max_len)"
   ]
  },
  {
   "cell_type": "code",
   "execution_count": 71,
   "metadata": {},
   "outputs": [
    {
     "name": "stdout",
     "output_type": "stream",
     "text": [
      "194439/194439 [==============================] - 27s 141us/step\n"
     ]
    }
   ],
   "source": [
    "pred_final = model.predict(pred,batch_size=512, verbose=1)"
   ]
  },
  {
   "cell_type": "code",
   "execution_count": 72,
   "metadata": {},
   "outputs": [],
   "source": [
    "df['pred_sentiment'] = np.argmax(pred_final, axis=1)"
   ]
  },
  {
   "cell_type": "code",
   "execution_count": 74,
   "metadata": {},
   "outputs": [
    {
     "data": {
      "text/plain": [
       "array(['Negative', 'Neutral', 'Positive'], dtype=object)"
      ]
     },
     "execution_count": 74,
     "metadata": {},
     "output_type": "execute_result"
    }
   ],
   "source": [
    "le.classes_"
   ]
  },
  {
   "cell_type": "code",
   "execution_count": 75,
   "metadata": {},
   "outputs": [],
   "source": [
    "df['pred_sentiment'] = le.inverse_transform(df['pred_sentiment'])"
   ]
  },
  {
   "cell_type": "code",
   "execution_count": 77,
   "metadata": {},
   "outputs": [],
   "source": [
    "df['overall'] = le.inverse_transform(df['overall'])"
   ]
  },
  {
   "cell_type": "code",
   "execution_count": 78,
   "metadata": {},
   "outputs": [
    {
     "data": {
      "text/html": [
       "<div>\n",
       "<style scoped>\n",
       "    .dataframe tbody tr th:only-of-type {\n",
       "        vertical-align: middle;\n",
       "    }\n",
       "\n",
       "    .dataframe tbody tr th {\n",
       "        vertical-align: top;\n",
       "    }\n",
       "\n",
       "    .dataframe thead th {\n",
       "        text-align: right;\n",
       "    }\n",
       "</style>\n",
       "<table border=\"1\" class=\"dataframe\">\n",
       "  <thead>\n",
       "    <tr style=\"text-align: right;\">\n",
       "      <th></th>\n",
       "      <th>overall</th>\n",
       "      <th>fixed_rev</th>\n",
       "      <th>pred_sentiment</th>\n",
       "    </tr>\n",
       "  </thead>\n",
       "  <tbody>\n",
       "    <tr>\n",
       "      <th>0</th>\n",
       "      <td>Neutral</td>\n",
       "      <td>they look good and stick good !  i just do not...</td>\n",
       "      <td>Neutral</td>\n",
       "    </tr>\n",
       "    <tr>\n",
       "      <th>1</th>\n",
       "      <td>Positive</td>\n",
       "      <td>these stickers work like the review says they ...</td>\n",
       "      <td>Positive</td>\n",
       "    </tr>\n",
       "    <tr>\n",
       "      <th>2</th>\n",
       "      <td>Positive</td>\n",
       "      <td>these are awesome and make my phone look so st...</td>\n",
       "      <td>Positive</td>\n",
       "    </tr>\n",
       "    <tr>\n",
       "      <th>3</th>\n",
       "      <td>Neutral</td>\n",
       "      <td>item arrived in great time and was in perfect ...</td>\n",
       "      <td>Neutral</td>\n",
       "    </tr>\n",
       "    <tr>\n",
       "      <th>4</th>\n",
       "      <td>Positive</td>\n",
       "      <td>awesome !  stays on ,  and looks great .  can ...</td>\n",
       "      <td>Positive</td>\n",
       "    </tr>\n",
       "    <tr>\n",
       "      <th>5</th>\n",
       "      <td>Neutral</td>\n",
       "      <td>these make using the home button easy .  my da...</td>\n",
       "      <td>Positive</td>\n",
       "    </tr>\n",
       "    <tr>\n",
       "      <th>6</th>\n",
       "      <td>Positive</td>\n",
       "      <td>came just as described .  .  it does not come ...</td>\n",
       "      <td>Positive</td>\n",
       "    </tr>\n",
       "    <tr>\n",
       "      <th>7</th>\n",
       "      <td>Negative</td>\n",
       "      <td>it worked for the first week then it only char...</td>\n",
       "      <td>Negative</td>\n",
       "    </tr>\n",
       "    <tr>\n",
       "      <th>8</th>\n",
       "      <td>Positive</td>\n",
       "      <td>good case ,  solid build .  protects phone all...</td>\n",
       "      <td>Positive</td>\n",
       "    </tr>\n",
       "    <tr>\n",
       "      <th>9</th>\n",
       "      <td>Positive</td>\n",
       "      <td>this is a fantastic case .  very stylish and p...</td>\n",
       "      <td>Positive</td>\n",
       "    </tr>\n",
       "    <tr>\n",
       "      <th>10</th>\n",
       "      <td>Positive</td>\n",
       "      <td>this case fits perfectly on the s4 and keeps m...</td>\n",
       "      <td>Positive</td>\n",
       "    </tr>\n",
       "    <tr>\n",
       "      <th>11</th>\n",
       "      <td>Positive</td>\n",
       "      <td>this is the first battery case i have had for ...</td>\n",
       "      <td>Positive</td>\n",
       "    </tr>\n",
       "    <tr>\n",
       "      <th>12</th>\n",
       "      <td>Positive</td>\n",
       "      <td>performs exactly as advertised  .  it is very ...</td>\n",
       "      <td>Positive</td>\n",
       "    </tr>\n",
       "    <tr>\n",
       "      <th>13</th>\n",
       "      <td>Positive</td>\n",
       "      <td>unlike most of the rechargeable battery cases ...</td>\n",
       "      <td>Positive</td>\n",
       "    </tr>\n",
       "    <tr>\n",
       "      <th>14</th>\n",
       "      <td>Positive</td>\n",
       "      <td>just what i needed .  i needed a phone case fo...</td>\n",
       "      <td>Positive</td>\n",
       "    </tr>\n",
       "    <tr>\n",
       "      <th>15</th>\n",
       "      <td>Positive</td>\n",
       "      <td>when there is no outlets ,  or chargers near b...</td>\n",
       "      <td>Positive</td>\n",
       "    </tr>\n",
       "    <tr>\n",
       "      <th>16</th>\n",
       "      <td>Positive</td>\n",
       "      <td>it works great .  does not heat up like crazy ...</td>\n",
       "      <td>Positive</td>\n",
       "    </tr>\n",
       "    <tr>\n",
       "      <th>17</th>\n",
       "      <td>Positive</td>\n",
       "      <td>surprisingly ,  this inexpensive version works...</td>\n",
       "      <td>Positive</td>\n",
       "    </tr>\n",
       "    <tr>\n",
       "      <th>18</th>\n",
       "      <td>Positive</td>\n",
       "      <td>i have tested this against the griffin dual ou...</td>\n",
       "      <td>Positive</td>\n",
       "    </tr>\n",
       "    <tr>\n",
       "      <th>19</th>\n",
       "      <td>Negative</td>\n",
       "      <td>it worked great for the first couple of weeks ...</td>\n",
       "      <td>Negative</td>\n",
       "    </tr>\n",
       "    <tr>\n",
       "      <th>20</th>\n",
       "      <td>Positive</td>\n",
       "      <td>i love that it has two ports for my phone and ...</td>\n",
       "      <td>Positive</td>\n",
       "    </tr>\n",
       "    <tr>\n",
       "      <th>21</th>\n",
       "      <td>Positive</td>\n",
       "      <td>just what you need ,  i am always having to ch...</td>\n",
       "      <td>Positive</td>\n",
       "    </tr>\n",
       "    <tr>\n",
       "      <th>22</th>\n",
       "      <td>Neutral</td>\n",
       "      <td>does not have the need amps to charge things l...</td>\n",
       "      <td>Neutral</td>\n",
       "    </tr>\n",
       "    <tr>\n",
       "      <th>23</th>\n",
       "      <td>Neutral</td>\n",
       "      <td>they are nothing special for sure ,  but it is...</td>\n",
       "      <td>Neutral</td>\n",
       "    </tr>\n",
       "    <tr>\n",
       "      <th>24</th>\n",
       "      <td>Neutral</td>\n",
       "      <td>i have several chargers .  have more than one ...</td>\n",
       "      <td>Positive</td>\n",
       "    </tr>\n",
       "  </tbody>\n",
       "</table>\n",
       "</div>"
      ],
      "text/plain": [
       "     overall                                          fixed_rev pred_sentiment\n",
       "0    Neutral  they look good and stick good !  i just do not...        Neutral\n",
       "1   Positive  these stickers work like the review says they ...       Positive\n",
       "2   Positive  these are awesome and make my phone look so st...       Positive\n",
       "3    Neutral  item arrived in great time and was in perfect ...        Neutral\n",
       "4   Positive  awesome !  stays on ,  and looks great .  can ...       Positive\n",
       "5    Neutral  these make using the home button easy .  my da...       Positive\n",
       "6   Positive  came just as described .  .  it does not come ...       Positive\n",
       "7   Negative  it worked for the first week then it only char...       Negative\n",
       "8   Positive  good case ,  solid build .  protects phone all...       Positive\n",
       "9   Positive  this is a fantastic case .  very stylish and p...       Positive\n",
       "10  Positive  this case fits perfectly on the s4 and keeps m...       Positive\n",
       "11  Positive  this is the first battery case i have had for ...       Positive\n",
       "12  Positive  performs exactly as advertised  .  it is very ...       Positive\n",
       "13  Positive  unlike most of the rechargeable battery cases ...       Positive\n",
       "14  Positive  just what i needed .  i needed a phone case fo...       Positive\n",
       "15  Positive  when there is no outlets ,  or chargers near b...       Positive\n",
       "16  Positive  it works great .  does not heat up like crazy ...       Positive\n",
       "17  Positive  surprisingly ,  this inexpensive version works...       Positive\n",
       "18  Positive  i have tested this against the griffin dual ou...       Positive\n",
       "19  Negative  it worked great for the first couple of weeks ...       Negative\n",
       "20  Positive  i love that it has two ports for my phone and ...       Positive\n",
       "21  Positive  just what you need ,  i am always having to ch...       Positive\n",
       "22   Neutral  does not have the need amps to charge things l...        Neutral\n",
       "23   Neutral  they are nothing special for sure ,  but it is...        Neutral\n",
       "24   Neutral  i have several chargers .  have more than one ...       Positive"
      ]
     },
     "execution_count": 78,
     "metadata": {},
     "output_type": "execute_result"
    }
   ],
   "source": [
    "df.head(25)"
   ]
  },
  {
   "cell_type": "markdown",
   "metadata": {},
   "source": [
    "<b> The End.Thanks for reading!! "
   ]
  },
  {
   "cell_type": "code",
   "execution_count": null,
   "metadata": {},
   "outputs": [],
   "source": []
  }
 ],
 "metadata": {
  "kernelspec": {
   "display_name": "Python 3",
   "language": "python",
   "name": "python3"
  },
  "language_info": {
   "codemirror_mode": {
    "name": "ipython",
    "version": 3
   },
   "file_extension": ".py",
   "mimetype": "text/x-python",
   "name": "python",
   "nbconvert_exporter": "python",
   "pygments_lexer": "ipython3",
   "version": "3.7.3"
  }
 },
 "nbformat": 4,
 "nbformat_minor": 2
}
